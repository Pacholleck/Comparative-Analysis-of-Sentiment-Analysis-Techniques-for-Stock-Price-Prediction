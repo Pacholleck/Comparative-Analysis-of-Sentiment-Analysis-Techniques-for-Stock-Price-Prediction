{
 "cells": [
  {
   "cell_type": "code",
   "execution_count": 2,
   "id": "6fd3fefb",
   "metadata": {
    "tags": []
   },
   "outputs": [],
   "source": [
    "# Import libraries\n",
    "import os\n",
    "\n",
    "import numpy as np\n",
    "import pandas as pd\n",
    "\n",
    "from statsmodels.tsa.statespace.sarimax import SARIMAX\n",
    "# from keras.models import Sequential\n",
    "# from keras.layers import LSTM, Dense"
   ]
  },
  {
   "cell_type": "code",
   "execution_count": 3,
   "id": "696a9533",
   "metadata": {
    "tags": []
   },
   "outputs": [],
   "source": [
    "df_finbert = pd.read_csv(os.path.join('..', 'data','RedditNews_FinBert.csv'))\n",
    "df_vader = pd.read_csv(os.path.join('..', 'data','RedditNews_Vader.csv'))\n",
    "\n",
    "df_stock = pd.read_csv(os.path.join('..', 'data','upload_DJIA_table_preprocessed.csv'))"
   ]
  },
  {
   "cell_type": "code",
   "execution_count": 4,
   "id": "9f48e922",
   "metadata": {
    "tags": []
   },
   "outputs": [],
   "source": [
    "# Calculate the mean sentiment score for each stock for each day\n",
    "df_finbert = df_finbert.groupby('Date') \\\n",
    "       .agg({'sentiment_FinBert_positive':'mean',\n",
    "            'sentiment_FinBert_negative':'mean',\n",
    "            'sentiment_FinBert_neutral':'mean'}) \\\n",
    "       .rename(columns={'sentiment_FinBert_positive':'sentiment_FinBert_positive',\n",
    "                        'sentiment_FinBert_negative':'sentiment_FinBert_negative',\n",
    "                        'sentiment_FinBert_neutral':'sentiment_FinBert_neutral'}) \\\n",
    "       .reset_index()\n",
    "\n",
    "# Calculate the mean sentiment score for each stock for each day\n",
    "df_vader = df_vader.groupby('Date') \\\n",
    "       .agg({'sentiment_vader':'mean'}) \\\n",
    "       .rename(columns={'sentiment_vader':'sentiment_vader'}) \\\n",
    "       .reset_index()"
   ]
  },
  {
   "cell_type": "code",
   "execution_count": 5,
   "id": "84d04037",
   "metadata": {
    "tags": []
   },
   "outputs": [],
   "source": [
    "df_finbert = df_finbert.merge(df_stock[['Date', 'returns']], on='Date')\n",
    "df_vader = df_vader.merge(df_stock[['Date', 'returns']], on='Date')\n",
    "\n",
    "df_finbert['Date'] = pd.to_datetime(df_finbert['Date'])\n",
    "df_vader['Date'] = pd.to_datetime(df_vader['Date'])\n",
    "\n",
    "# set the index\n",
    "df_finbert.set_index('Date', inplace=True)\n",
    "df_vader.set_index('Date', inplace=True)"
   ]
  },
  {
   "cell_type": "code",
   "execution_count": 7,
   "id": "6cea5405-145b-4cc9-a610-0795de1e7a8e",
   "metadata": {
    "tags": []
   },
   "outputs": [
    {
     "name": "stderr",
     "output_type": "stream",
     "text": [
      "C:\\Users\\duzzi\\anaconda3\\envs\\MasterThesis\\lib\\site-packages\\statsmodels\\tsa\\base\\tsa_model.py:473: ValueWarning: A date index has been provided, but it has no associated frequency information and so will be ignored when e.g. forecasting.\n",
      "  self._init_dates(dates, freq)\n",
      "C:\\Users\\duzzi\\anaconda3\\envs\\MasterThesis\\lib\\site-packages\\statsmodels\\tsa\\base\\tsa_model.py:473: ValueWarning: A date index has been provided, but it has no associated frequency information and so will be ignored when e.g. forecasting.\n",
      "  self._init_dates(dates, freq)\n",
      "C:\\Users\\duzzi\\anaconda3\\envs\\MasterThesis\\lib\\site-packages\\statsmodels\\base\\model.py:607: ConvergenceWarning: Maximum Likelihood optimization failed to converge. Check mle_retvals\n",
      "  warnings.warn(\"Maximum Likelihood optimization failed to \"\n"
     ]
    }
   ],
   "source": [
    "# Define the ARIMAX model\n",
    "# For this example, let's use the order (1,1,1) for ARIMA, but you'll need to determine the best order for your data\n",
    "model = SARIMAX(df_vader['returns'], exog=df_vader['sentiment_vader'], order=(1,1,1))\n",
    "\n",
    "# Fit the model\n",
    "results = model.fit(disp=-1)"
   ]
  },
  {
   "cell_type": "code",
   "execution_count": 10,
   "id": "01a44004-568d-4952-91df-3ac02642b7e4",
   "metadata": {
    "tags": []
   },
   "outputs": [
    {
     "name": "stderr",
     "output_type": "stream",
     "text": [
      "C:\\Users\\duzzi\\anaconda3\\envs\\MasterThesis\\lib\\site-packages\\statsmodels\\tsa\\base\\tsa_model.py:836: ValueWarning: No supported index is available. Prediction results will be given with an integer index beginning at `start`.\n",
      "  return get_prediction_index(\n",
      "C:\\Users\\duzzi\\anaconda3\\envs\\MasterThesis\\lib\\site-packages\\statsmodels\\tsa\\base\\tsa_model.py:836: FutureWarning: No supported index is available. In the next version, calling this method in a model without a supported index will result in an exception.\n",
      "  return get_prediction_index(\n"
     ]
    },
    {
     "ename": "ValueError",
     "evalue": "Provided exogenous values are not of the appropriate shape. Required (1, 1), got (1988,).",
     "output_type": "error",
     "traceback": [
      "\u001b[1;31m---------------------------------------------------------------------------\u001b[0m",
      "\u001b[1;31mValueError\u001b[0m                                Traceback (most recent call last)",
      "File \u001b[1;32m~\\anaconda3\\envs\\MasterThesis\\lib\\site-packages\\statsmodels\\tsa\\statespace\\mlemodel.py:1776\u001b[0m, in \u001b[0;36mMLEModel._validate_out_of_sample_exog\u001b[1;34m(self, exog, out_of_sample)\u001b[0m\n\u001b[0;32m   1775\u001b[0m \u001b[38;5;28;01mtry\u001b[39;00m:\n\u001b[1;32m-> 1776\u001b[0m     exog \u001b[38;5;241m=\u001b[39m \u001b[43mexog\u001b[49m\u001b[38;5;241;43m.\u001b[39;49m\u001b[43mreshape\u001b[49m\u001b[43m(\u001b[49m\u001b[43mrequired_exog_shape\u001b[49m\u001b[43m)\u001b[49m\n\u001b[0;32m   1777\u001b[0m \u001b[38;5;28;01mexcept\u001b[39;00m \u001b[38;5;167;01mValueError\u001b[39;00m:\n",
      "\u001b[1;31mValueError\u001b[0m: cannot reshape array of size 1988 into shape (1,1)",
      "\nDuring handling of the above exception, another exception occurred:\n",
      "\u001b[1;31mValueError\u001b[0m                                Traceback (most recent call last)",
      "Cell \u001b[1;32mIn[10], line 1\u001b[0m\n\u001b[1;32m----> 1\u001b[0m df_vader[\u001b[38;5;124m'\u001b[39m\u001b[38;5;124mpredicted_returns\u001b[39m\u001b[38;5;124m'\u001b[39m] \u001b[38;5;241m=\u001b[39m \u001b[43mresults\u001b[49m\u001b[38;5;241;43m.\u001b[39;49m\u001b[43mpredict\u001b[49m\u001b[43m(\u001b[49m\u001b[43mstart\u001b[49m\u001b[38;5;241;43m=\u001b[39;49m\u001b[38;5;241;43m1\u001b[39;49m\u001b[43m,\u001b[49m\u001b[43m \u001b[49m\u001b[43mend\u001b[49m\u001b[38;5;241;43m=\u001b[39;49m\u001b[38;5;28;43mlen\u001b[39;49m\u001b[43m(\u001b[49m\u001b[43mdf_vader\u001b[49m\u001b[43m)\u001b[49m\u001b[43m,\u001b[49m\u001b[43m \u001b[49m\u001b[43mexog\u001b[49m\u001b[38;5;241;43m=\u001b[39;49m\u001b[43mdf_vader\u001b[49m\u001b[43m[\u001b[49m\u001b[38;5;124;43m'\u001b[39;49m\u001b[38;5;124;43msentiment_vader\u001b[39;49m\u001b[38;5;124;43m'\u001b[39;49m\u001b[43m]\u001b[49m\u001b[43m)\u001b[49m\n\u001b[0;32m      2\u001b[0m df_vader[\u001b[38;5;124m'\u001b[39m\u001b[38;5;124mresiduals\u001b[39m\u001b[38;5;124m'\u001b[39m] \u001b[38;5;241m=\u001b[39m df_vader[\u001b[38;5;124m'\u001b[39m\u001b[38;5;124mreturns\u001b[39m\u001b[38;5;124m'\u001b[39m] \u001b[38;5;241m-\u001b[39m df_vader[\u001b[38;5;124m'\u001b[39m\u001b[38;5;124mpredicted_returns\u001b[39m\u001b[38;5;124m'\u001b[39m]\n",
      "File \u001b[1;32m~\\anaconda3\\envs\\MasterThesis\\lib\\site-packages\\statsmodels\\base\\wrapper.py:113\u001b[0m, in \u001b[0;36mmake_wrapper.<locals>.wrapper\u001b[1;34m(self, *args, **kwargs)\u001b[0m\n\u001b[0;32m    111\u001b[0m     obj \u001b[38;5;241m=\u001b[39m data\u001b[38;5;241m.\u001b[39mwrap_output(func(results, \u001b[38;5;241m*\u001b[39margs, \u001b[38;5;241m*\u001b[39m\u001b[38;5;241m*\u001b[39mkwargs), how[\u001b[38;5;241m0\u001b[39m], how[\u001b[38;5;241m1\u001b[39m:])\n\u001b[0;32m    112\u001b[0m \u001b[38;5;28;01melif\u001b[39;00m how:\n\u001b[1;32m--> 113\u001b[0m     obj \u001b[38;5;241m=\u001b[39m data\u001b[38;5;241m.\u001b[39mwrap_output(func(results, \u001b[38;5;241m*\u001b[39margs, \u001b[38;5;241m*\u001b[39m\u001b[38;5;241m*\u001b[39mkwargs), how)\n\u001b[0;32m    114\u001b[0m \u001b[38;5;28;01mreturn\u001b[39;00m obj\n",
      "File \u001b[1;32m~\\anaconda3\\envs\\MasterThesis\\lib\\site-packages\\statsmodels\\tsa\\statespace\\mlemodel.py:3487\u001b[0m, in \u001b[0;36mMLEResults.predict\u001b[1;34m(self, start, end, dynamic, information_set, signal_only, **kwargs)\u001b[0m\n\u001b[0;32m   3422\u001b[0m \u001b[38;5;250m\u001b[39m\u001b[38;5;124mr\u001b[39m\u001b[38;5;124;03m\"\"\"\u001b[39;00m\n\u001b[0;32m   3423\u001b[0m \u001b[38;5;124;03mIn-sample prediction and out-of-sample forecasting\u001b[39;00m\n\u001b[0;32m   3424\u001b[0m \n\u001b[1;32m   (...)\u001b[0m\n\u001b[0;32m   3484\u001b[0m \u001b[38;5;124;03m    including confidence intervals.\u001b[39;00m\n\u001b[0;32m   3485\u001b[0m \u001b[38;5;124;03m\"\"\"\u001b[39;00m\n\u001b[0;32m   3486\u001b[0m \u001b[38;5;66;03m# Perform the prediction\u001b[39;00m\n\u001b[1;32m-> 3487\u001b[0m prediction_results \u001b[38;5;241m=\u001b[39m \u001b[38;5;28mself\u001b[39m\u001b[38;5;241m.\u001b[39mget_prediction(\n\u001b[0;32m   3488\u001b[0m     start, end, dynamic, information_set\u001b[38;5;241m=\u001b[39minformation_set,\n\u001b[0;32m   3489\u001b[0m     signal_only\u001b[38;5;241m=\u001b[39msignal_only, \u001b[38;5;241m*\u001b[39m\u001b[38;5;241m*\u001b[39mkwargs)\n\u001b[0;32m   3490\u001b[0m \u001b[38;5;28;01mreturn\u001b[39;00m prediction_results\u001b[38;5;241m.\u001b[39mpredicted_mean\n",
      "File \u001b[1;32m~\\anaconda3\\envs\\MasterThesis\\lib\\site-packages\\statsmodels\\tsa\\statespace\\mlemodel.py:3355\u001b[0m, in \u001b[0;36mMLEResults.get_prediction\u001b[1;34m(self, start, end, dynamic, information_set, signal_only, index, exog, extend_model, extend_kwargs, **kwargs)\u001b[0m\n\u001b[0;32m   3352\u001b[0m     extend_model \u001b[38;5;241m=\u001b[39m (\u001b[38;5;28mself\u001b[39m\u001b[38;5;241m.\u001b[39mmodel\u001b[38;5;241m.\u001b[39mexog \u001b[38;5;129;01mis\u001b[39;00m \u001b[38;5;129;01mnot\u001b[39;00m \u001b[38;5;28;01mNone\u001b[39;00m \u001b[38;5;129;01mor\u001b[39;00m\n\u001b[0;32m   3353\u001b[0m                     \u001b[38;5;129;01mnot\u001b[39;00m \u001b[38;5;28mself\u001b[39m\u001b[38;5;241m.\u001b[39mfilter_results\u001b[38;5;241m.\u001b[39mtime_invariant)\n\u001b[0;32m   3354\u001b[0m \u001b[38;5;28;01mif\u001b[39;00m out_of_sample \u001b[38;5;129;01mand\u001b[39;00m extend_model:\n\u001b[1;32m-> 3355\u001b[0m     kwargs \u001b[38;5;241m=\u001b[39m \u001b[38;5;28mself\u001b[39m\u001b[38;5;241m.\u001b[39mmodel\u001b[38;5;241m.\u001b[39m_get_extension_time_varying_matrices(\n\u001b[0;32m   3356\u001b[0m         \u001b[38;5;28mself\u001b[39m\u001b[38;5;241m.\u001b[39mparams, exog, out_of_sample, extend_kwargs,\n\u001b[0;32m   3357\u001b[0m         transformed\u001b[38;5;241m=\u001b[39m\u001b[38;5;28;01mTrue\u001b[39;00m, includes_fixed\u001b[38;5;241m=\u001b[39m\u001b[38;5;28;01mTrue\u001b[39;00m, \u001b[38;5;241m*\u001b[39m\u001b[38;5;241m*\u001b[39mkwargs)\n\u001b[0;32m   3359\u001b[0m \u001b[38;5;66;03m# Make sure the model class has the current parameters\u001b[39;00m\n\u001b[0;32m   3360\u001b[0m \u001b[38;5;28mself\u001b[39m\u001b[38;5;241m.\u001b[39mmodel\u001b[38;5;241m.\u001b[39mupdate(\u001b[38;5;28mself\u001b[39m\u001b[38;5;241m.\u001b[39mparams, transformed\u001b[38;5;241m=\u001b[39m\u001b[38;5;28;01mTrue\u001b[39;00m, includes_fixed\u001b[38;5;241m=\u001b[39m\u001b[38;5;28;01mTrue\u001b[39;00m)\n",
      "File \u001b[1;32m~\\anaconda3\\envs\\MasterThesis\\lib\\site-packages\\statsmodels\\tsa\\statespace\\sarimax.py:1718\u001b[0m, in \u001b[0;36mSARIMAX._get_extension_time_varying_matrices\u001b[1;34m(self, params, exog, out_of_sample, extend_kwargs, transformed, includes_fixed, **kwargs)\u001b[0m\n\u001b[0;32m   1708\u001b[0m \u001b[38;5;250m\u001b[39m\u001b[38;5;124;03m\"\"\"\u001b[39;00m\n\u001b[0;32m   1709\u001b[0m \u001b[38;5;124;03mGet time-varying state space system matrices for extended model\u001b[39;00m\n\u001b[0;32m   1710\u001b[0m \n\u001b[1;32m   (...)\u001b[0m\n\u001b[0;32m   1714\u001b[0m \u001b[38;5;124;03mspecial handling in the `simple_differencing=True` case.\u001b[39;00m\n\u001b[0;32m   1715\u001b[0m \u001b[38;5;124;03m\"\"\"\u001b[39;00m\n\u001b[0;32m   1717\u001b[0m \u001b[38;5;66;03m# Get the appropriate exog for the extended sample\u001b[39;00m\n\u001b[1;32m-> 1718\u001b[0m exog \u001b[38;5;241m=\u001b[39m \u001b[38;5;28;43mself\u001b[39;49m\u001b[38;5;241;43m.\u001b[39;49m\u001b[43m_validate_out_of_sample_exog\u001b[49m\u001b[43m(\u001b[49m\u001b[43mexog\u001b[49m\u001b[43m,\u001b[49m\u001b[43m \u001b[49m\u001b[43mout_of_sample\u001b[49m\u001b[43m)\u001b[49m\n\u001b[0;32m   1720\u001b[0m \u001b[38;5;66;03m# Get the tmp endog, exog\u001b[39;00m\n\u001b[0;32m   1721\u001b[0m \u001b[38;5;28;01mif\u001b[39;00m \u001b[38;5;28mself\u001b[39m\u001b[38;5;241m.\u001b[39msimple_differencing:\n",
      "File \u001b[1;32m~\\anaconda3\\envs\\MasterThesis\\lib\\site-packages\\statsmodels\\tsa\\statespace\\mlemodel.py:1778\u001b[0m, in \u001b[0;36mMLEModel._validate_out_of_sample_exog\u001b[1;34m(self, exog, out_of_sample)\u001b[0m\n\u001b[0;32m   1776\u001b[0m         exog \u001b[38;5;241m=\u001b[39m exog\u001b[38;5;241m.\u001b[39mreshape(required_exog_shape)\n\u001b[0;32m   1777\u001b[0m     \u001b[38;5;28;01mexcept\u001b[39;00m \u001b[38;5;167;01mValueError\u001b[39;00m:\n\u001b[1;32m-> 1778\u001b[0m         \u001b[38;5;28;01mraise\u001b[39;00m \u001b[38;5;167;01mValueError\u001b[39;00m(\u001b[38;5;124m'\u001b[39m\u001b[38;5;124mProvided exogenous values are not of the\u001b[39m\u001b[38;5;124m'\u001b[39m\n\u001b[0;32m   1779\u001b[0m                          \u001b[38;5;124m'\u001b[39m\u001b[38;5;124m appropriate shape. Required \u001b[39m\u001b[38;5;132;01m%s\u001b[39;00m\u001b[38;5;124m, got \u001b[39m\u001b[38;5;132;01m%s\u001b[39;00m\u001b[38;5;124m.\u001b[39m\u001b[38;5;124m'\u001b[39m\n\u001b[0;32m   1780\u001b[0m                          \u001b[38;5;241m%\u001b[39m (\u001b[38;5;28mstr\u001b[39m(required_exog_shape),\n\u001b[0;32m   1781\u001b[0m                             \u001b[38;5;28mstr\u001b[39m(exog\u001b[38;5;241m.\u001b[39mshape)))\n\u001b[0;32m   1782\u001b[0m \u001b[38;5;28;01melif\u001b[39;00m k_exog \u001b[38;5;241m>\u001b[39m \u001b[38;5;241m0\u001b[39m \u001b[38;5;129;01mand\u001b[39;00m exog \u001b[38;5;129;01mis\u001b[39;00m \u001b[38;5;129;01mnot\u001b[39;00m \u001b[38;5;28;01mNone\u001b[39;00m:\n\u001b[0;32m   1783\u001b[0m     exog \u001b[38;5;241m=\u001b[39m \u001b[38;5;28;01mNone\u001b[39;00m\n",
      "\u001b[1;31mValueError\u001b[0m: Provided exogenous values are not of the appropriate shape. Required (1, 1), got (1988,)."
     ]
    }
   ],
   "source": [
    "df_vader['predicted_returns'] = results.predict(start=1, end=len(df_vader), exog=df_vader['sentiment_vader'])\n",
    "df_vader['residuals'] = df_vader['returns'] - df_vader['predicted_returns']"
   ]
  },
  {
   "cell_type": "code",
   "execution_count": 26,
   "id": "5038db4c",
   "metadata": {
    "execution": {
     "iopub.execute_input": "2023-07-24T18:41:28.881261Z",
     "iopub.status.busy": "2023-07-24T18:41:28.880832Z",
     "iopub.status.idle": "2023-07-24T18:41:28.889363Z",
     "shell.execute_reply": "2023-07-24T18:41:28.888193Z",
     "shell.execute_reply.started": "2023-07-24T18:41:28.881227Z"
    }
   },
   "outputs": [],
   "source": [
    "# Convert them into pandas dataframes\n",
    "y_pred_finbert_df = pd.DataFrame(y_pred_finbert, columns=['y_pred_FinBert'])\n",
    "y_test_finbert_df = pd.DataFrame(y_test_finbert, columns=['y_test_FinBert'])\n",
    "y_pred_vader_df = pd.DataFrame(y_pred_vader, columns=['y_pred_Vader'])\n",
    "y_test_vader_df = pd.DataFrame(y_test_vader, columns=['y_test_Vader'])\n",
    "\n",
    "# Combine them into a single dataframe\n",
    "results = pd.concat([y_pred_finbert_df, y_test_finbert_df,y_pred_vader_df, y_test_vader_df], axis=1)"
   ]
  },
  {
   "cell_type": "code",
   "execution_count": 28,
   "id": "0dc844f6",
   "metadata": {
    "execution": {
     "iopub.execute_input": "2023-07-24T18:42:48.623418Z",
     "iopub.status.busy": "2023-07-24T18:42:48.623043Z",
     "iopub.status.idle": "2023-07-24T18:42:48.636207Z",
     "shell.execute_reply": "2023-07-24T18:42:48.634952Z",
     "shell.execute_reply.started": "2023-07-24T18:42:48.623390Z"
    }
   },
   "outputs": [],
   "source": [
    "results\n",
    "results.to_csv('RedditNews_Results.csv', index=False)"
   ]
  }
 ],
 "metadata": {
  "kernelspec": {
   "display_name": "Python 3 (ipykernel)",
   "language": "python",
   "name": "python3"
  },
  "language_info": {
   "codemirror_mode": {
    "name": "ipython",
    "version": 3
   },
   "file_extension": ".py",
   "mimetype": "text/x-python",
   "name": "python",
   "nbconvert_exporter": "python",
   "pygments_lexer": "ipython3",
   "version": "3.9.16"
  }
 },
 "nbformat": 4,
 "nbformat_minor": 5
}
