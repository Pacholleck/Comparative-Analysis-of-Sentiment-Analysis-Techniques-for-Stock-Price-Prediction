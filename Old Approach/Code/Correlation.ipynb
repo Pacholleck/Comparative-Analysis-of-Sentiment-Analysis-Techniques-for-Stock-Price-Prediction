{
 "cells": [
  {
   "cell_type": "code",
   "execution_count": 33,
   "id": "0a01c581-11cb-48ec-acbd-66e52c6724c2",
   "metadata": {
    "tags": []
   },
   "outputs": [],
   "source": [
    "# Import libraries\n",
    "import os\n",
    "\n",
    "import numpy as np\n",
    "import pandas as pd\n"
   ]
  },
  {
   "cell_type": "code",
   "execution_count": 34,
   "id": "11b70cac-c0a4-4926-8ad8-517bf15a8e40",
   "metadata": {
    "tags": []
   },
   "outputs": [],
   "source": [
    "df_finbert = pd.read_csv(os.path.join('..', 'data', 'RedditNews_FinBert.csv'))\n",
    "df_vader = pd.read_csv(os.path.join('..', 'data', 'APPLE_Vader.csv'))\n",
    "\n",
    "df_stock = pd.read_csv(os.path.join('..', 'data','upload_DJIA_table_preprocessed.csv'))"
   ]
  },
  {
   "cell_type": "code",
   "execution_count": 35,
   "id": "20e0a20e-6586-41cf-be4f-0fd041bcffc5",
   "metadata": {
    "tags": []
   },
   "outputs": [],
   "source": [
    "# Calculate the mean sentiment score for each stock for each day\n",
    "df_finbert = df_finbert.groupby('Date') \\\n",
    "       .agg({'sentiment_FinBert_positive':'mean',\n",
    "            'sentiment_FinBert_negative':'mean',\n",
    "            'sentiment_FinBert_neutral':'mean'}) \\\n",
    "       .rename(columns={'sentiment_FinBert_positive':'sentiment_FinBert_positive',\n",
    "                        'sentiment_FinBert_negative':'sentiment_FinBert_negative',\n",
    "                        'sentiment_FinBert_neutral':'sentiment_FinBert_neutral'}) \\\n",
    "       .reset_index()\n",
    "\n",
    "# Calculate the mean sentiment score for each stock for each day\n",
    "df_vader = df_vader.groupby('release') \\\n",
    "       .agg({'sentiment_vader':'mean'}) \\\n",
    "       .reset_index() \\\n",
    "       .rename(columns={'release':'Date','sentiment_vader':'sentiment_vader'}) "
   ]
  },
  {
   "cell_type": "code",
   "execution_count": 36,
   "id": "ecf40654-08e3-45ba-b6d2-0c1aa272dc55",
   "metadata": {
    "tags": []
   },
   "outputs": [
    {
     "data": {
      "text/html": [
       "<div>\n",
       "<style scoped>\n",
       "    .dataframe tbody tr th:only-of-type {\n",
       "        vertical-align: middle;\n",
       "    }\n",
       "\n",
       "    .dataframe tbody tr th {\n",
       "        vertical-align: top;\n",
       "    }\n",
       "\n",
       "    .dataframe thead th {\n",
       "        text-align: right;\n",
       "    }\n",
       "</style>\n",
       "<table border=\"1\" class=\"dataframe\">\n",
       "  <thead>\n",
       "    <tr style=\"text-align: right;\">\n",
       "      <th></th>\n",
       "      <th>Date</th>\n",
       "      <th>sentiment_vader</th>\n",
       "    </tr>\n",
       "  </thead>\n",
       "  <tbody>\n",
       "    <tr>\n",
       "      <th>0</th>\n",
       "      <td>2014-03-06</td>\n",
       "      <td>0.4404</td>\n",
       "    </tr>\n",
       "    <tr>\n",
       "      <th>1</th>\n",
       "      <td>2014-04-09</td>\n",
       "      <td>0.0000</td>\n",
       "    </tr>\n",
       "    <tr>\n",
       "      <th>2</th>\n",
       "      <td>2014-04-22</td>\n",
       "      <td>0.2960</td>\n",
       "    </tr>\n",
       "    <tr>\n",
       "      <th>3</th>\n",
       "      <td>2014-04-23</td>\n",
       "      <td>0.0000</td>\n",
       "    </tr>\n",
       "    <tr>\n",
       "      <th>4</th>\n",
       "      <td>2014-05-09</td>\n",
       "      <td>0.0000</td>\n",
       "    </tr>\n",
       "    <tr>\n",
       "      <th>...</th>\n",
       "      <td>...</td>\n",
       "      <td>...</td>\n",
       "    </tr>\n",
       "    <tr>\n",
       "      <th>701</th>\n",
       "      <td>2022-12-21</td>\n",
       "      <td>0.4215</td>\n",
       "    </tr>\n",
       "    <tr>\n",
       "      <th>702</th>\n",
       "      <td>2022-12-23</td>\n",
       "      <td>0.1280</td>\n",
       "    </tr>\n",
       "    <tr>\n",
       "      <th>703</th>\n",
       "      <td>2022-12-27</td>\n",
       "      <td>0.4404</td>\n",
       "    </tr>\n",
       "    <tr>\n",
       "      <th>704</th>\n",
       "      <td>2022-12-29</td>\n",
       "      <td>-0.1280</td>\n",
       "    </tr>\n",
       "    <tr>\n",
       "      <th>705</th>\n",
       "      <td>2022-12-30</td>\n",
       "      <td>0.0000</td>\n",
       "    </tr>\n",
       "  </tbody>\n",
       "</table>\n",
       "<p>706 rows × 2 columns</p>\n",
       "</div>"
      ],
      "text/plain": [
       "           Date  sentiment_vader\n",
       "0    2014-03-06           0.4404\n",
       "1    2014-04-09           0.0000\n",
       "2    2014-04-22           0.2960\n",
       "3    2014-04-23           0.0000\n",
       "4    2014-05-09           0.0000\n",
       "..          ...              ...\n",
       "701  2022-12-21           0.4215\n",
       "702  2022-12-23           0.1280\n",
       "703  2022-12-27           0.4404\n",
       "704  2022-12-29          -0.1280\n",
       "705  2022-12-30           0.0000\n",
       "\n",
       "[706 rows x 2 columns]"
      ]
     },
     "execution_count": 36,
     "metadata": {},
     "output_type": "execute_result"
    }
   ],
   "source": [
    "df_vader"
   ]
  },
  {
   "cell_type": "code",
   "execution_count": 37,
   "id": "9c2415a9-41c4-4aad-bb00-76fb020aaf10",
   "metadata": {
    "tags": []
   },
   "outputs": [],
   "source": [
    "df_finbert = df_finbert.merge(df_stock[['Date', 'returns']], on='Date')\n",
    "df_vader = df_vader.merge(df_stock[['Date', 'returns']], on='Date')\n",
    "\n",
    "df_finbert['Date'] = pd.to_datetime(df_finbert['Date'])\n",
    "df_vader['Date'] = pd.to_datetime(df_vader['Date'])\n",
    "\n",
    "# set the index\n",
    "df_finbert.set_index('Date', inplace=True)\n",
    "df_vader.set_index('Date', inplace=True)"
   ]
  },
  {
   "cell_type": "code",
   "execution_count": 38,
   "id": "af0e90b7-2293-4914-abe9-12fdb48532d6",
   "metadata": {
    "tags": []
   },
   "outputs": [
    {
     "data": {
      "image/png": "[encoded data removed]",
      "text/plain": [
       "<Figure size 1000x600 with 1 Axes>"
      ]
     },
     "metadata": {},
     "output_type": "display_data"
    }
   ],
   "source": [
    "import matplotlib.pyplot as plt\n",
    "\n",
    "plt.figure(figsize=(10, 6))\n",
    "plt.scatter(df_vader['sentiment_vader'], df_vader['returns'], alpha=0.5)\n",
    "plt.title('Stock Price vs. VADER Sentiment Score')\n",
    "plt.xlabel('VADER Sentiment Score')\n",
    "plt.ylabel('Stock Price')\n",
    "plt.grid(True)\n",
    "plt.show()\n"
   ]
  },
  {
   "cell_type": "code",
   "execution_count": 39,
   "id": "8c2bc4a0-6c54-40c9-87b9-f342ce36dcde",
   "metadata": {
    "tags": []
   },
   "outputs": [
    {
     "name": "stdout",
     "output_type": "stream",
     "text": [
      "Correlation between VADER Score and Stock Price: -0.15\n"
     ]
    }
   ],
   "source": [
    "correlation = df_vader['sentiment_vader'].corr(df_vader['returns'])\n",
    "print(f'Correlation between VADER Score and Stock Price: {correlation:.2f}')"
   ]
  },
  {
   "cell_type": "code",
   "execution_count": null,
   "id": "98bbf690-2953-4581-b868-bfaad6d9598a",
   "metadata": {},
   "outputs": [],
   "source": []
  }
 ],
 "metadata": {
  "kernelspec": {
   "display_name": "Python 3 (ipykernel)",
   "language": "python",
   "name": "python3"
  },
  "language_info": {
   "codemirror_mode": {
    "name": "ipython",
    "version": 3
   },
   "file_extension": ".py",
   "mimetype": "text/x-python",
   "name": "python",
   "nbconvert_exporter": "python",
   "pygments_lexer": "ipython3",
   "version": "3.9.16"
  }
 },
 "nbformat": 4,
 "nbformat_minor": 5
}
