{
 "cells": [
  {
   "cell_type": "code",
   "execution_count": 1,
   "id": "4f6727b3",
   "metadata": {
    "_cell_guid": "b1076dfc-b9ad-4769-8c92-a6c4dae69d19",
    "_uuid": "8f2839f25d086af736a60e9eeb907d3b93b6e0e5",
    "execution": {
     "iopub.execute_input": "2023-10-20T00:27:22.801059Z",
     "iopub.status.busy": "2023-10-20T00:27:22.800080Z",
     "iopub.status.idle": "2023-10-20T00:27:22.820604Z",
     "shell.execute_reply": "2023-10-20T00:27:22.819142Z"
    },
    "papermill": {
     "duration": 0.032472,
     "end_time": "2023-10-20T00:27:22.823126",
     "exception": false,
     "start_time": "2023-10-20T00:27:22.790654",
     "status": "completed"
    },
    "tags": []
   },
   "outputs": [
    {
     "name": "stdout",
     "output_type": "stream",
     "text": [
      "/kaggle/input/financial-news/articles.csv\n",
      "/kaggle/input/financial-news/links.csv\n"
     ]
    }
   ],
   "source": [
    "import os\n",
    "for dirname, _, filenames in os.walk('/kaggle/input'):\n",
    "    for filename in filenames:\n",
    "        print(os.path.join(dirname, filename))"
   ]
  },
  {
   "cell_type": "markdown",
   "id": "982ef786",
   "metadata": {
    "papermill": {
     "duration": 0.006573,
     "end_time": "2023-10-20T00:27:22.836244",
     "exception": false,
     "start_time": "2023-10-20T00:27:22.829671",
     "status": "completed"
    },
    "tags": []
   },
   "source": [
    "### Data"
   ]
  },
  {
   "cell_type": "code",
   "execution_count": 2,
   "id": "500af8fa",
   "metadata": {
    "execution": {
     "iopub.execute_input": "2023-10-20T00:27:22.851105Z",
     "iopub.status.busy": "2023-10-20T00:27:22.850234Z",
     "iopub.status.idle": "2023-10-20T00:28:30.265622Z",
     "shell.execute_reply": "2023-10-20T00:28:30.264358Z"
    },
    "papermill": {
     "duration": 67.425937,
     "end_time": "2023-10-20T00:28:30.268568",
     "exception": false,
     "start_time": "2023-10-20T00:27:22.842631",
     "status": "completed"
    },
    "tags": []
   },
   "outputs": [
    {
     "name": "stderr",
     "output_type": "stream",
     "text": [
      "/opt/conda/lib/python3.7/site-packages/dateutil/parser/_parser.py:1212: UnknownTimezoneWarning: tzname ET identified but not understood.  Pass `tzinfos` argument in order to correctly return a timezone-aware datetime.  In a future version, this will raise an exception.\n",
      "  category=UnknownTimezoneWarning)\n"
     ]
    }
   ],
   "source": [
    "# Load the financial news dataset and do some basic transformations\n",
    "import pandas as pd\n",
    "\n",
    "df = pd.read_csv('/kaggle/input/financial-news/articles.csv')\n",
    "df_links = pd.read_csv('/kaggle/input/financial-news/links.csv')\n",
    "df = df.merge(df_links, left_on ='source_url', right_on= 'link')\n",
    "# # Reduce the number of observations\n",
    "# df.drop_duplicates(subset='text', inplace = True)\n",
    "# # Draw random sample of 20%\n",
    "# df = df.sample(frac=0.1, random_state = 42)\n",
    "df['date'] = pd.to_datetime(df.date).dt.tz_localize(\"EST\")\n",
    "df['date_utc'] = df.date.dt.tz_convert(\"UTC\")\n",
    "df['year'] = df['date_utc'].dt.year\n",
    "df['month'] = df['date_utc'].dt.month\n",
    "df['release']= df['date'].dt.date\n",
    "df.dropna(inplace = True)\n",
    "df.rename(columns={'instrument':'ticker'}, inplace=True)\n",
    "df = df[df['year'] >= 2016]"
   ]
  },
  {
   "cell_type": "markdown",
   "id": "d4a52e05",
   "metadata": {
    "papermill": {
     "duration": 0.006079,
     "end_time": "2023-10-20T00:28:30.281285",
     "exception": false,
     "start_time": "2023-10-20T00:28:30.275206",
     "status": "completed"
    },
    "tags": []
   },
   "source": [
    "#### Data Exploration"
   ]
  },
  {
   "cell_type": "code",
   "execution_count": 3,
   "id": "f7effeba",
   "metadata": {
    "execution": {
     "iopub.execute_input": "2023-10-20T00:28:30.296577Z",
     "iopub.status.busy": "2023-10-20T00:28:30.295889Z",
     "iopub.status.idle": "2023-10-20T00:28:30.304339Z",
     "shell.execute_reply": "2023-10-20T00:28:30.303142Z"
    },
    "papermill": {
     "duration": 0.018927,
     "end_time": "2023-10-20T00:28:30.306683",
     "exception": false,
     "start_time": "2023-10-20T00:28:30.287756",
     "status": "completed"
    },
    "tags": []
   },
   "outputs": [
    {
     "data": {
      "text/plain": [
       "Index(['date', 'headline', 'ticker', 'source_url', 'text', 'link', 'source',\n",
       "       'date_utc', 'year', 'month', 'release'],\n",
       "      dtype='object')"
      ]
     },
     "execution_count": 3,
     "metadata": {},
     "output_type": "execute_result"
    }
   ],
   "source": [
    "df.columns"
   ]
  },
  {
   "cell_type": "code",
   "execution_count": 4,
   "id": "6e312683",
   "metadata": {
    "execution": {
     "iopub.execute_input": "2023-10-20T00:28:30.322195Z",
     "iopub.status.busy": "2023-10-20T00:28:30.321256Z",
     "iopub.status.idle": "2023-10-20T00:28:33.440730Z",
     "shell.execute_reply": "2023-10-20T00:28:33.439450Z"
    },
    "papermill": {
     "duration": 3.130093,
     "end_time": "2023-10-20T00:28:33.443300",
     "exception": false,
     "start_time": "2023-10-20T00:28:30.313207",
     "status": "completed"
    },
    "tags": []
   },
   "outputs": [
    {
     "name": "stdout",
     "output_type": "stream",
     "text": [
      "Number of unique articles: 162928\n"
     ]
    }
   ],
   "source": [
    "print('Number of unique articles: ' + str(len(df.text.unique())))"
   ]
  },
  {
   "cell_type": "code",
   "execution_count": 5,
   "id": "0e9ad7c1",
   "metadata": {
    "execution": {
     "iopub.execute_input": "2023-10-20T00:28:33.460353Z",
     "iopub.status.busy": "2023-10-20T00:28:33.459959Z",
     "iopub.status.idle": "2023-10-20T00:28:33.484854Z",
     "shell.execute_reply": "2023-10-20T00:28:33.483827Z"
    },
    "papermill": {
     "duration": 0.036746,
     "end_time": "2023-10-20T00:28:33.487524",
     "exception": false,
     "start_time": "2023-10-20T00:28:33.450778",
     "status": "completed"
    },
    "tags": []
   },
   "outputs": [
    {
     "name": "stdout",
     "output_type": "stream",
     "text": [
      "Investing.com – Japan stocks were higher after the close on Wednesday, as gains in the  Retail ,  Gas & Water  and  Transport  sectors led shares higher. At the close in Tokyo, the  Nikkei 225  gained 0.57%. The best performers of the session on the  Nikkei 225  were   JFE Holdings, Inc.   (T: 5411 ), which rose 5.88% or 144.0 points to trade at 2595.0 at the close. Meanwhile,   Yamaha Corp.   (T: 7951 ) added 5.16% or 200.0 points to end at 4075.0 and   Kobe Steel, Ltd.   (T: 5406 ) was up 4.25% or 43.0 points to 1055.5 in late trade. The worst performers of the session were   Tokyo Electron Ltd.   (T: 8035 ), which fell 5.77% or 1285.0 points to trade at 20995.0 at the close.   Dainippon Screen Mfg. Co., Ltd.   (T: 7735 ) declined 5.03% or 540.0 points to end at 10185.0 and   Shin-Etsu Chemical Co., Ltd.   (T: 4063 ) was down 3.82% or 475.0 points to 11945.0. Rising stocks outnumbered declining ones on the Tokyo Stock Exchange by 2214 to 1086 and 196 ended unchanged. Shares in JFE Holdings, Inc. (T: 5411 ) rose to 52-week highs; up 5.88% or 144.0 to 2595.0.  The  Nikkei Volatility , which measures the implied volatility of Nikkei 225 options, was up 0.96% to 17.89. Crude oil for January delivery was down 0.38% or 0.22 to $57.77 a barrel. Elsewhere in commodities trading, Brent oil for delivery in February fell 0.44% or 0.28 to hit $62.96 a barrel, while the December Gold Futures contract rose 0.05% or 0.68 to trade at $1295.58 a troy ounce. USD/JPY was up 0.02% to 111.50, while EUR/JPY rose 0.23% to 132.25. The US Dollar Index Futures was down 0.15% at 93.06.\n",
      "___________________________________________________________________________________\n"
     ]
    }
   ],
   "source": [
    "# get random article\n",
    "import random\n",
    "random.seed(5)\n",
    "\n",
    "for i in random.sample(range(0, len(df)-1),1):\n",
    "    print(df.text[i])\n",
    "    print('___________________________________________________________________________________')"
   ]
  },
  {
   "cell_type": "code",
   "execution_count": 6,
   "id": "59b6ea8e",
   "metadata": {
    "execution": {
     "iopub.execute_input": "2023-10-20T00:28:33.503265Z",
     "iopub.status.busy": "2023-10-20T00:28:33.502867Z",
     "iopub.status.idle": "2023-10-20T00:28:33.602850Z",
     "shell.execute_reply": "2023-10-20T00:28:33.601875Z"
    },
    "papermill": {
     "duration": 0.110387,
     "end_time": "2023-10-20T00:28:33.605074",
     "exception": false,
     "start_time": "2023-10-20T00:28:33.494687",
     "status": "completed"
    },
    "tags": []
   },
   "outputs": [
    {
     "data": {
      "text/plain": [
       "US500       13537\n",
       "DJI         10272\n",
       "AAPL         8978\n",
       "IXIC         8884\n",
       "AMZN         8063\n",
       "            ...  \n",
       "033780          1\n",
       "PNNI            1\n",
       "ED4             1\n",
       "TINCk           1\n",
       "EVER_...        1\n",
       "Name: ticker, Length: 16484, dtype: int64"
      ]
     },
     "execution_count": 6,
     "metadata": {},
     "output_type": "execute_result"
    }
   ],
   "source": [
    "# check by ticker\n",
    "df.ticker.value_counts()"
   ]
  },
  {
   "cell_type": "code",
   "execution_count": 7,
   "id": "808ed78c",
   "metadata": {
    "execution": {
     "iopub.execute_input": "2023-10-20T00:28:33.619800Z",
     "iopub.status.busy": "2023-10-20T00:28:33.619444Z",
     "iopub.status.idle": "2023-10-20T00:28:33.674716Z",
     "shell.execute_reply": "2023-10-20T00:28:33.673525Z"
    },
    "papermill": {
     "duration": 0.065334,
     "end_time": "2023-10-20T00:28:33.677011",
     "exception": false,
     "start_time": "2023-10-20T00:28:33.611677",
     "status": "completed"
    },
    "tags": []
   },
   "outputs": [
    {
     "data": {
      "text/plain": [
       "By Investing.com       589433\n",
       "By Reuters             210042\n",
       "By Seeking Alpha       108848\n",
       "By Bloomberg            16648\n",
       "By StockNews             6400\n",
       "By Business Insider      1048\n",
       "By Money Show             234\n",
       "By FinanceMagnates         22\n",
       "By Bloomberg_video          2\n",
       "By Cointelegraph            1\n",
       "Name: source, dtype: int64"
      ]
     },
     "execution_count": 7,
     "metadata": {},
     "output_type": "execute_result"
    }
   ],
   "source": [
    "# check by source\n",
    "df.source.value_counts()"
   ]
  },
  {
   "cell_type": "code",
   "execution_count": 8,
   "id": "a42877bd",
   "metadata": {
    "execution": {
     "iopub.execute_input": "2023-10-20T00:28:33.692055Z",
     "iopub.status.busy": "2023-10-20T00:28:33.691733Z",
     "iopub.status.idle": "2023-10-20T00:28:37.443005Z",
     "shell.execute_reply": "2023-10-20T00:28:37.441751Z"
    },
    "papermill": {
     "duration": 3.761723,
     "end_time": "2023-10-20T00:28:37.445585",
     "exception": false,
     "start_time": "2023-10-20T00:28:33.683862",
     "status": "completed"
    },
    "tags": []
   },
   "outputs": [
    {
     "data": {
      "image/png": "[encoded data removed]",
      "text/plain": [
       "<Figure size 1200x600 with 1 Axes>"
      ]
     },
     "metadata": {},
     "output_type": "display_data"
    }
   ],
   "source": [
    "import matplotlib.pyplot as plt\n",
    "df['release'] = pd.to_datetime(df['release'])\n",
    "headlines_count = df.groupby('date').size()\n",
    "\n",
    "plt.figure(figsize=(12,6))\n",
    "headlines_count.plot()\n",
    "plt.title('Number of News Headlines per Day')\n",
    "plt.xlabel('Date')\n",
    "plt.ylabel('Number of Headlines')\n",
    "plt.grid(True)\n",
    "plt.tight_layout()\n",
    "plt.show()\n"
   ]
  },
  {
   "cell_type": "code",
   "execution_count": 9,
   "id": "bd4bd763",
   "metadata": {
    "execution": {
     "iopub.execute_input": "2023-10-20T00:28:37.462974Z",
     "iopub.status.busy": "2023-10-20T00:28:37.462580Z",
     "iopub.status.idle": "2023-10-20T00:28:37.467483Z",
     "shell.execute_reply": "2023-10-20T00:28:37.466407Z"
    },
    "papermill": {
     "duration": 0.016199,
     "end_time": "2023-10-20T00:28:37.469741",
     "exception": false,
     "start_time": "2023-10-20T00:28:37.453542",
     "status": "completed"
    },
    "tags": []
   },
   "outputs": [],
   "source": [
    "# set ticker of interest\n",
    "tickerSymbol = \"US500\""
   ]
  },
  {
   "cell_type": "code",
   "execution_count": 10,
   "id": "e922b1b0",
   "metadata": {
    "execution": {
     "iopub.execute_input": "2023-10-20T00:28:37.487333Z",
     "iopub.status.busy": "2023-10-20T00:28:37.486940Z",
     "iopub.status.idle": "2023-10-20T00:28:37.633574Z",
     "shell.execute_reply": "2023-10-20T00:28:37.632273Z"
    },
    "papermill": {
     "duration": 0.158687,
     "end_time": "2023-10-20T00:28:37.636481",
     "exception": false,
     "start_time": "2023-10-20T00:28:37.477794",
     "status": "completed"
    },
    "tags": []
   },
   "outputs": [],
   "source": [
    "# filter df for ticker\n",
    "df = df[df['ticker']==tickerSymbol]"
   ]
  },
  {
   "cell_type": "code",
   "execution_count": 11,
   "id": "ecbb12d7",
   "metadata": {
    "execution": {
     "iopub.execute_input": "2023-10-20T00:28:37.703754Z",
     "iopub.status.busy": "2023-10-20T00:28:37.703281Z",
     "iopub.status.idle": "2023-10-20T00:28:37.809769Z",
     "shell.execute_reply": "2023-10-20T00:28:37.808818Z"
    },
    "papermill": {
     "duration": 0.168168,
     "end_time": "2023-10-20T00:28:37.812553",
     "exception": false,
     "start_time": "2023-10-20T00:28:37.644385",
     "status": "completed"
    },
    "tags": []
   },
   "outputs": [],
   "source": [
    "df.drop_duplicates(subset='text', keep='first', inplace=True)"
   ]
  },
  {
   "cell_type": "code",
   "execution_count": 12,
   "id": "4f700604",
   "metadata": {
    "execution": {
     "iopub.execute_input": "2023-10-20T00:28:37.830742Z",
     "iopub.status.busy": "2023-10-20T00:28:37.829874Z",
     "iopub.status.idle": "2023-10-20T00:28:37.839837Z",
     "shell.execute_reply": "2023-10-20T00:28:37.838695Z"
    },
    "papermill": {
     "duration": 0.021267,
     "end_time": "2023-10-20T00:28:37.842032",
     "exception": false,
     "start_time": "2023-10-20T00:28:37.820765",
     "status": "completed"
    },
    "tags": []
   },
   "outputs": [
    {
     "data": {
      "text/plain": [
       "US500    13381\n",
       "Name: ticker, dtype: int64"
      ]
     },
     "execution_count": 12,
     "metadata": {},
     "output_type": "execute_result"
    }
   ],
   "source": [
    "# check by ticker\n",
    "df.ticker.value_counts()"
   ]
  },
  {
   "cell_type": "code",
   "execution_count": 13,
   "id": "e83ddb33",
   "metadata": {
    "execution": {
     "iopub.execute_input": "2023-10-20T00:28:37.859692Z",
     "iopub.status.busy": "2023-10-20T00:28:37.858477Z",
     "iopub.status.idle": "2023-10-20T00:28:37.867134Z",
     "shell.execute_reply": "2023-10-20T00:28:37.865841Z"
    },
    "papermill": {
     "duration": 0.019646,
     "end_time": "2023-10-20T00:28:37.869354",
     "exception": false,
     "start_time": "2023-10-20T00:28:37.849708",
     "status": "completed"
    },
    "tags": []
   },
   "outputs": [
    {
     "data": {
      "text/plain": [
       "2022    2539\n",
       "2018    2306\n",
       "2021    2141\n",
       "2020    1989\n",
       "2017    1755\n",
       "2019    1595\n",
       "2016    1056\n",
       "Name: year, dtype: int64"
      ]
     },
     "execution_count": 13,
     "metadata": {},
     "output_type": "execute_result"
    }
   ],
   "source": [
    "# check by year\n",
    "df.year.value_counts()"
   ]
  },
  {
   "cell_type": "code",
   "execution_count": 14,
   "id": "e41dd796",
   "metadata": {
    "execution": {
     "iopub.execute_input": "2023-10-20T00:28:37.886730Z",
     "iopub.status.busy": "2023-10-20T00:28:37.886026Z",
     "iopub.status.idle": "2023-10-20T00:28:37.920493Z",
     "shell.execute_reply": "2023-10-20T00:28:37.919352Z"
    },
    "papermill": {
     "duration": 0.045644,
     "end_time": "2023-10-20T00:28:37.922889",
     "exception": false,
     "start_time": "2023-10-20T00:28:37.877245",
     "status": "completed"
    },
    "tags": []
   },
   "outputs": [
    {
     "data": {
      "text/plain": [
       "Timestamp('2016-01-04 00:00:00')"
      ]
     },
     "metadata": {},
     "output_type": "display_data"
    },
    {
     "data": {
      "text/plain": [
       "Timestamp('2022-12-30 00:00:00')"
      ]
     },
     "metadata": {},
     "output_type": "display_data"
    }
   ],
   "source": [
    "display(min(df.release))\n",
    "display(max(df.release))"
   ]
  },
  {
   "cell_type": "code",
   "execution_count": 15,
   "id": "55e0aa3f",
   "metadata": {
    "execution": {
     "iopub.execute_input": "2023-10-20T00:28:37.941809Z",
     "iopub.status.busy": "2023-10-20T00:28:37.940867Z",
     "iopub.status.idle": "2023-10-20T00:28:37.953105Z",
     "shell.execute_reply": "2023-10-20T00:28:37.951971Z"
    },
    "papermill": {
     "duration": 0.024092,
     "end_time": "2023-10-20T00:28:37.955254",
     "exception": false,
     "start_time": "2023-10-20T00:28:37.931162",
     "status": "completed"
    },
    "tags": []
   },
   "outputs": [],
   "source": [
    "df = df[['release','headline', 'text']]\n",
    "# df.rename(columns={'release':'date'}, inplace=True)"
   ]
  },
  {
   "cell_type": "code",
   "execution_count": 16,
   "id": "f4611824",
   "metadata": {
    "execution": {
     "iopub.execute_input": "2023-10-20T00:28:37.973563Z",
     "iopub.status.busy": "2023-10-20T00:28:37.972458Z",
     "iopub.status.idle": "2023-10-20T00:28:39.151388Z",
     "shell.execute_reply": "2023-10-20T00:28:39.150369Z"
    },
    "papermill": {
     "duration": 1.190736,
     "end_time": "2023-10-20T00:28:39.153991",
     "exception": false,
     "start_time": "2023-10-20T00:28:37.963255",
     "status": "completed"
    },
    "tags": []
   },
   "outputs": [],
   "source": [
    "df.to_csv('/kaggle/working/SP500_news.csv')"
   ]
  },
  {
   "cell_type": "markdown",
   "id": "bc44fb0a",
   "metadata": {
    "papermill": {
     "duration": 0.007801,
     "end_time": "2023-10-20T00:28:39.170014",
     "exception": false,
     "start_time": "2023-10-20T00:28:39.162213",
     "status": "completed"
    },
    "tags": []
   },
   "source": [
    "#### Financial Data"
   ]
  },
  {
   "cell_type": "code",
   "execution_count": 17,
   "id": "8a49f114",
   "metadata": {
    "execution": {
     "iopub.execute_input": "2023-10-20T00:28:39.190589Z",
     "iopub.status.busy": "2023-10-20T00:28:39.189381Z",
     "iopub.status.idle": "2023-10-20T00:29:02.410258Z",
     "shell.execute_reply": "2023-10-20T00:29:02.409143Z"
    },
    "papermill": {
     "duration": 23.232679,
     "end_time": "2023-10-20T00:29:02.412815",
     "exception": false,
     "start_time": "2023-10-20T00:28:39.180136",
     "status": "completed"
    },
    "tags": []
   },
   "outputs": [
    {
     "name": "stdout",
     "output_type": "stream",
     "text": [
      "Collecting yfinance\r\n",
      "  Downloading yfinance-0.2.31-py2.py3-none-any.whl (65 kB)\r\n",
      "\u001b[2K     \u001b[90m━━━━━━━━━━━━━━━━━━━━━━━━━━━━━━━━━━━━━━━━\u001b[0m \u001b[32m65.6/65.6 kB\u001b[0m \u001b[31m2.1 MB/s\u001b[0m eta \u001b[36m0:00:00\u001b[0m\r\n",
      "\u001b[?25hRequirement already satisfied: pytz>=2022.5 in /opt/conda/lib/python3.7/site-packages (from yfinance) (2022.7.1)\r\n",
      "Collecting peewee>=3.16.2\r\n",
      "  Downloading peewee-3.17.0.tar.gz (2.9 MB)\r\n",
      "\u001b[2K     \u001b[90m━━━━━━━━━━━━━━━━━━━━━━━━━━━━━━━━━━━━━━━━\u001b[0m \u001b[32m2.9/2.9 MB\u001b[0m \u001b[31m36.1 MB/s\u001b[0m eta \u001b[36m0:00:00\u001b[0m\r\n",
      "\u001b[?25h  Installing build dependencies ... \u001b[?25l-\b \b\\\b \b|\b \b/\b \bdone\r\n",
      "\u001b[?25h  Getting requirements to build wheel ... \u001b[?25l-\b \b\\\b \bdone\r\n",
      "\u001b[?25h  Preparing metadata (pyproject.toml) ... \u001b[?25l-\b \bdone\r\n",
      "\u001b[?25hRequirement already satisfied: appdirs>=1.4.4 in /opt/conda/lib/python3.7/site-packages (from yfinance) (1.4.4)\r\n",
      "Requirement already satisfied: beautifulsoup4>=4.11.1 in /opt/conda/lib/python3.7/site-packages (from yfinance) (4.11.1)\r\n",
      "Collecting requests>=2.31\r\n",
      "  Downloading requests-2.31.0-py3-none-any.whl (62 kB)\r\n",
      "\u001b[2K     \u001b[90m━━━━━━━━━━━━━━━━━━━━━━━━━━━━━━━━━━━━━━━━\u001b[0m \u001b[32m62.6/62.6 kB\u001b[0m \u001b[31m6.2 MB/s\u001b[0m eta \u001b[36m0:00:00\u001b[0m\r\n",
      "\u001b[?25hRequirement already satisfied: html5lib>=1.1 in /opt/conda/lib/python3.7/site-packages (from yfinance) (1.1)\r\n",
      "Requirement already satisfied: pandas>=1.3.0 in /opt/conda/lib/python3.7/site-packages (from yfinance) (1.3.5)\r\n",
      "Requirement already satisfied: lxml>=4.9.1 in /opt/conda/lib/python3.7/site-packages (from yfinance) (4.9.2)\r\n",
      "Requirement already satisfied: frozendict>=2.3.4 in /opt/conda/lib/python3.7/site-packages (from yfinance) (2.3.5)\r\n",
      "Collecting multitasking>=0.0.7\r\n",
      "  Downloading multitasking-0.0.11-py3-none-any.whl (8.5 kB)\r\n",
      "Requirement already satisfied: numpy>=1.16.5 in /opt/conda/lib/python3.7/site-packages (from yfinance) (1.21.6)\r\n",
      "Requirement already satisfied: soupsieve>1.2 in /opt/conda/lib/python3.7/site-packages (from beautifulsoup4>=4.11.1->yfinance) (2.3.2.post1)\r\n",
      "Requirement already satisfied: six>=1.9 in /opt/conda/lib/python3.7/site-packages (from html5lib>=1.1->yfinance) (1.16.0)\r\n",
      "Requirement already satisfied: webencodings in /opt/conda/lib/python3.7/site-packages (from html5lib>=1.1->yfinance) (0.5.1)\r\n",
      "Requirement already satisfied: python-dateutil>=2.7.3 in /opt/conda/lib/python3.7/site-packages (from pandas>=1.3.0->yfinance) (2.8.2)\r\n",
      "Requirement already satisfied: certifi>=2017.4.17 in /opt/conda/lib/python3.7/site-packages (from requests>=2.31->yfinance) (2022.12.7)\r\n",
      "Requirement already satisfied: charset-normalizer<4,>=2 in /opt/conda/lib/python3.7/site-packages (from requests>=2.31->yfinance) (2.1.1)\r\n",
      "Requirement already satisfied: idna<4,>=2.5 in /opt/conda/lib/python3.7/site-packages (from requests>=2.31->yfinance) (3.4)\r\n",
      "Requirement already satisfied: urllib3<3,>=1.21.1 in /opt/conda/lib/python3.7/site-packages (from requests>=2.31->yfinance) (1.26.14)\r\n",
      "Building wheels for collected packages: peewee\r\n",
      "  Building wheel for peewee (pyproject.toml) ... \u001b[?25l-\b \b\\\b \bdone\r\n",
      "\u001b[?25h  Created wheel for peewee: filename=peewee-3.17.0-py3-none-any.whl size=135720 sha256=19377aee2c6f9e27f8c2d4960cfbebc1ed2933f0db141fc3e13988a9d8b7981c\r\n",
      "  Stored in directory: /root/.cache/pip/wheels/3d/94/75/04466de49ad673d7f0fc420ad799701870e63a3b833387d2f4\r\n",
      "Successfully built peewee\r\n",
      "Installing collected packages: peewee, multitasking, requests, yfinance\r\n",
      "  Attempting uninstall: requests\r\n",
      "    Found existing installation: requests 2.28.2\r\n",
      "    Uninstalling requests-2.28.2:\r\n",
      "      Successfully uninstalled requests-2.28.2\r\n",
      "\u001b[31mERROR: pip's dependency resolver does not currently take into account all the packages that are installed. This behaviour is the source of the following dependency conflicts.\r\n",
      "pandas-profiling 3.6.2 requires requests<2.29,>=2.24.0, but you have requests 2.31.0 which is incompatible.\r\n",
      "librosa 0.10.0 requires soundfile>=0.12.1, but you have soundfile 0.11.0 which is incompatible.\r\n",
      "apache-beam 2.44.0 requires dill<0.3.2,>=0.3.1.1, but you have dill 0.3.6 which is incompatible.\u001b[0m\u001b[31m\r\n",
      "\u001b[0mSuccessfully installed multitasking-0.0.11 peewee-3.17.0 requests-2.31.0 yfinance-0.2.31\r\n",
      "\u001b[33mWARNING: Running pip as the 'root' user can result in broken permissions and conflicting behaviour with the system package manager. It is recommended to use a virtual environment instead: https://pip.pypa.io/warnings/venv\u001b[0m\u001b[33m\r\n",
      "\u001b[0m"
     ]
    }
   ],
   "source": [
    "!pip install yfinance\n",
    "import yfinance as yf"
   ]
  },
  {
   "cell_type": "code",
   "execution_count": 18,
   "id": "d46b0d00",
   "metadata": {
    "execution": {
     "iopub.execute_input": "2023-10-20T00:29:02.434626Z",
     "iopub.status.busy": "2023-10-20T00:29:02.433491Z",
     "iopub.status.idle": "2023-10-20T00:29:03.412297Z",
     "shell.execute_reply": "2023-10-20T00:29:03.411363Z"
    },
    "papermill": {
     "duration": 0.992519,
     "end_time": "2023-10-20T00:29:03.414909",
     "exception": false,
     "start_time": "2023-10-20T00:29:02.422390",
     "status": "completed"
    },
    "tags": []
   },
   "outputs": [],
   "source": [
    "data = []\n",
    "tickerSymbol = '^GSPC'\n",
    "start = min(df['release'])\n",
    "end = max(df['release'])\n",
    "ticker = yf.Ticker(tickerSymbol)\n",
    "fin_data = ticker.history(start=start, end = end)"
   ]
  },
  {
   "cell_type": "code",
   "execution_count": 19,
   "id": "d0cf0f7c",
   "metadata": {
    "execution": {
     "iopub.execute_input": "2023-10-20T00:29:03.436106Z",
     "iopub.status.busy": "2023-10-20T00:29:03.435366Z",
     "iopub.status.idle": "2023-10-20T00:29:03.443533Z",
     "shell.execute_reply": "2023-10-20T00:29:03.442365Z"
    },
    "papermill": {
     "duration": 0.021254,
     "end_time": "2023-10-20T00:29:03.445868",
     "exception": false,
     "start_time": "2023-10-20T00:29:03.424614",
     "status": "completed"
    },
    "tags": []
   },
   "outputs": [],
   "source": [
    "fin_data = fin_data.reset_index()[['Date','Open', 'Close', 'High', 'Low', 'Volume']]"
   ]
  },
  {
   "cell_type": "code",
   "execution_count": 20,
   "id": "6ece86ae",
   "metadata": {
    "execution": {
     "iopub.execute_input": "2023-10-20T00:29:03.466444Z",
     "iopub.status.busy": "2023-10-20T00:29:03.466082Z",
     "iopub.status.idle": "2023-10-20T00:29:03.587463Z",
     "shell.execute_reply": "2023-10-20T00:29:03.586541Z"
    },
    "papermill": {
     "duration": 0.134689,
     "end_time": "2023-10-20T00:29:03.590169",
     "exception": false,
     "start_time": "2023-10-20T00:29:03.455480",
     "status": "completed"
    },
    "tags": []
   },
   "outputs": [],
   "source": [
    "# Convert 'date' column to datetime type\n",
    "fin_data['Date'] = pd.to_datetime(fin_data['Date'])\n",
    "\n",
    "# Format 'date' column to 'YYYY-MM-DD'\n",
    "fin_data['Date'] = fin_data['Date'].dt.strftime('%Y-%m-%d')\n",
    "fin_data['Date'] = pd.to_datetime(fin_data['Date'])\n",
    "fin_data.rename(columns={'Date':'date'}, inplace=True)\n",
    "\n",
    "# Convert 'date' column to datetime type\n",
    "df['release'] = pd.to_datetime(df['release'])\n",
    "\n",
    "# Format 'date' column to 'YYYY-MM-DD'\n",
    "df['release'] = df['release'].dt.strftime('%Y-%m-%d')\n",
    "df['release'] = pd.to_datetime(df['release'])"
   ]
  },
  {
   "cell_type": "code",
   "execution_count": 21,
   "id": "4a90d5a0",
   "metadata": {
    "execution": {
     "iopub.execute_input": "2023-10-20T00:29:03.610340Z",
     "iopub.status.busy": "2023-10-20T00:29:03.609996Z",
     "iopub.status.idle": "2023-10-20T00:29:03.637465Z",
     "shell.execute_reply": "2023-10-20T00:29:03.636565Z"
    },
    "papermill": {
     "duration": 0.040376,
     "end_time": "2023-10-20T00:29:03.639838",
     "exception": false,
     "start_time": "2023-10-20T00:29:03.599462",
     "status": "completed"
    },
    "tags": []
   },
   "outputs": [],
   "source": [
    "fin_data.to_csv('/kaggle/working/SP500_stock.csv')"
   ]
  },
  {
   "cell_type": "code",
   "execution_count": 22,
   "id": "9091acba",
   "metadata": {
    "execution": {
     "iopub.execute_input": "2023-10-20T00:29:03.660810Z",
     "iopub.status.busy": "2023-10-20T00:29:03.660072Z",
     "iopub.status.idle": "2023-10-20T00:29:03.766094Z",
     "shell.execute_reply": "2023-10-20T00:29:03.764926Z"
    },
    "papermill": {
     "duration": 0.119386,
     "end_time": "2023-10-20T00:29:03.768773",
     "exception": false,
     "start_time": "2023-10-20T00:29:03.649387",
     "status": "completed"
    },
    "tags": []
   },
   "outputs": [],
   "source": [
    "# Convertadd_suffix the trading days to a set for faster lookup\n",
    "trading_days_set = set(fin_data['date'].dt.date)\n",
    "max_trading_date = fin_data['date'].max().date()\n",
    "\n",
    "def next_trading_day(x):\n",
    "    # Convert the date to a python date object for compatibility with the set\n",
    "    x_date = x.date()\n",
    "    # Keep advancing a day until it's a trading day or exceeds the max trading date\n",
    "    while x_date not in trading_days_set and x_date <= max_trading_date:\n",
    "        x += pd.DateOffset(days=1)\n",
    "        x_date = x.date()\n",
    "    return pd.Timestamp(x_date) if x_date <= max_trading_date else pd.NaT  # Return NaT if date is out of bounds\n",
    "\n",
    "df['date'] = df['release'].apply(next_trading_day)\n"
   ]
  },
  {
   "cell_type": "code",
   "execution_count": 23,
   "id": "f7b397a0",
   "metadata": {
    "execution": {
     "iopub.execute_input": "2023-10-20T00:29:03.789944Z",
     "iopub.status.busy": "2023-10-20T00:29:03.789183Z",
     "iopub.status.idle": "2023-10-20T00:29:03.829336Z",
     "shell.execute_reply": "2023-10-20T00:29:03.828134Z"
    },
    "papermill": {
     "duration": 0.054165,
     "end_time": "2023-10-20T00:29:03.832492",
     "exception": false,
     "start_time": "2023-10-20T00:29:03.778327",
     "status": "completed"
    },
    "tags": []
   },
   "outputs": [],
   "source": [
    "df.dropna(inplace = True)"
   ]
  },
  {
   "cell_type": "code",
   "execution_count": 24,
   "id": "f20e69f9",
   "metadata": {
    "execution": {
     "iopub.execute_input": "2023-10-20T00:29:03.853386Z",
     "iopub.status.busy": "2023-10-20T00:29:03.852986Z",
     "iopub.status.idle": "2023-10-20T00:29:03.880693Z",
     "shell.execute_reply": "2023-10-20T00:29:03.879568Z"
    },
    "papermill": {
     "duration": 0.040425,
     "end_time": "2023-10-20T00:29:03.882785",
     "exception": false,
     "start_time": "2023-10-20T00:29:03.842360",
     "status": "completed"
    },
    "tags": []
   },
   "outputs": [
    {
     "data": {
      "text/html": [
       "<div>\n",
       "<style scoped>\n",
       "    .dataframe tbody tr th:only-of-type {\n",
       "        vertical-align: middle;\n",
       "    }\n",
       "\n",
       "    .dataframe tbody tr th {\n",
       "        vertical-align: top;\n",
       "    }\n",
       "\n",
       "    .dataframe thead th {\n",
       "        text-align: right;\n",
       "    }\n",
       "</style>\n",
       "<table border=\"1\" class=\"dataframe\">\n",
       "  <thead>\n",
       "    <tr style=\"text-align: right;\">\n",
       "      <th></th>\n",
       "      <th>release</th>\n",
       "      <th>headline</th>\n",
       "      <th>text</th>\n",
       "      <th>date</th>\n",
       "    </tr>\n",
       "  </thead>\n",
       "  <tbody>\n",
       "    <tr>\n",
       "      <th>124</th>\n",
       "      <td>2022-12-29</td>\n",
       "      <td>Stock market today: Dow ends higher as dip-buy...</td>\n",
       "      <td>By Yasin Ebrahim Investing.com -- The Dow clos...</td>\n",
       "      <td>2022-12-29</td>\n",
       "    </tr>\n",
       "    <tr>\n",
       "      <th>140</th>\n",
       "      <td>2022-12-29</td>\n",
       "      <td>S&amp;P 500 jumps as dip-buyers piled into tech</td>\n",
       "      <td>By Yasin Ebrahim  Investing.com --The S&amp;P 500 ...</td>\n",
       "      <td>2022-12-29</td>\n",
       "    </tr>\n",
       "    <tr>\n",
       "      <th>180</th>\n",
       "      <td>2022-12-29</td>\n",
       "      <td>Stock markets extend gains as an end-of-year r...</td>\n",
       "      <td>By Daniel Shvartsman  Investing.com - U.S. mar...</td>\n",
       "      <td>2022-12-29</td>\n",
       "    </tr>\n",
       "    <tr>\n",
       "      <th>209</th>\n",
       "      <td>2022-12-29</td>\n",
       "      <td>Dow futures rise 80 pts ahead of weekly jobles...</td>\n",
       "      <td>By Peter Nurse Investing.com -- U.S. stocks ar...</td>\n",
       "      <td>2022-12-29</td>\n",
       "    </tr>\n",
       "    <tr>\n",
       "      <th>252</th>\n",
       "      <td>2022-12-28</td>\n",
       "      <td>Equities fall on risk aversion with 2023, Chin...</td>\n",
       "      <td>By Sinéad Carew NEW YORK (Reuters) - Equity in...</td>\n",
       "      <td>2022-12-28</td>\n",
       "    </tr>\n",
       "    <tr>\n",
       "      <th>...</th>\n",
       "      <td>...</td>\n",
       "      <td>...</td>\n",
       "      <td>...</td>\n",
       "      <td>...</td>\n",
       "    </tr>\n",
       "    <tr>\n",
       "      <th>932588</th>\n",
       "      <td>2016-01-05</td>\n",
       "      <td>Wall Street lower as investors turn cautious; ...</td>\n",
       "      <td>By Abhiram Nandakumar (Reuters) - Apple dragge...</td>\n",
       "      <td>2016-01-05</td>\n",
       "    </tr>\n",
       "    <tr>\n",
       "      <th>932619</th>\n",
       "      <td>2016-01-05</td>\n",
       "      <td>Investing.com sentiment: speculators less bear...</td>\n",
       "      <td>Investing.com - The Investing.com weekly senti...</td>\n",
       "      <td>2016-01-05</td>\n",
       "    </tr>\n",
       "    <tr>\n",
       "      <th>932625</th>\n",
       "      <td>2016-01-05</td>\n",
       "      <td>Global share market settles after stormy start...</td>\n",
       "      <td>By Sujata Rao LONDON (Reuters) - World stocks ...</td>\n",
       "      <td>2016-01-05</td>\n",
       "    </tr>\n",
       "    <tr>\n",
       "      <th>932635</th>\n",
       "      <td>2016-01-05</td>\n",
       "      <td>Shares in Asia mixed with Shanghai recovering ...</td>\n",
       "      <td>Investing.com - Asian shares were mixed with S...</td>\n",
       "      <td>2016-01-05</td>\n",
       "    </tr>\n",
       "    <tr>\n",
       "      <th>932648</th>\n",
       "      <td>2016-01-04</td>\n",
       "      <td>Wall Street begins year sharply lower after Ch...</td>\n",
       "      <td>NEW YORK (Reuters) - U.S. stocks dropped on Mo...</td>\n",
       "      <td>2016-01-04</td>\n",
       "    </tr>\n",
       "  </tbody>\n",
       "</table>\n",
       "<p>13378 rows × 4 columns</p>\n",
       "</div>"
      ],
      "text/plain": [
       "          release                                           headline  \\\n",
       "124    2022-12-29  Stock market today: Dow ends higher as dip-buy...   \n",
       "140    2022-12-29        S&P 500 jumps as dip-buyers piled into tech   \n",
       "180    2022-12-29  Stock markets extend gains as an end-of-year r...   \n",
       "209    2022-12-29  Dow futures rise 80 pts ahead of weekly jobles...   \n",
       "252    2022-12-28  Equities fall on risk aversion with 2023, Chin...   \n",
       "...           ...                                                ...   \n",
       "932588 2016-01-05  Wall Street lower as investors turn cautious; ...   \n",
       "932619 2016-01-05  Investing.com sentiment: speculators less bear...   \n",
       "932625 2016-01-05  Global share market settles after stormy start...   \n",
       "932635 2016-01-05  Shares in Asia mixed with Shanghai recovering ...   \n",
       "932648 2016-01-04  Wall Street begins year sharply lower after Ch...   \n",
       "\n",
       "                                                     text       date  \n",
       "124     By Yasin Ebrahim Investing.com -- The Dow clos... 2022-12-29  \n",
       "140     By Yasin Ebrahim  Investing.com --The S&P 500 ... 2022-12-29  \n",
       "180     By Daniel Shvartsman  Investing.com - U.S. mar... 2022-12-29  \n",
       "209     By Peter Nurse Investing.com -- U.S. stocks ar... 2022-12-29  \n",
       "252     By Sinéad Carew NEW YORK (Reuters) - Equity in... 2022-12-28  \n",
       "...                                                   ...        ...  \n",
       "932588  By Abhiram Nandakumar (Reuters) - Apple dragge... 2016-01-05  \n",
       "932619  Investing.com - The Investing.com weekly senti... 2016-01-05  \n",
       "932625  By Sujata Rao LONDON (Reuters) - World stocks ... 2016-01-05  \n",
       "932635  Investing.com - Asian shares were mixed with S... 2016-01-05  \n",
       "932648  NEW YORK (Reuters) - U.S. stocks dropped on Mo... 2016-01-04  \n",
       "\n",
       "[13378 rows x 4 columns]"
      ]
     },
     "execution_count": 24,
     "metadata": {},
     "output_type": "execute_result"
    }
   ],
   "source": [
    "df"
   ]
  },
  {
   "cell_type": "code",
   "execution_count": 25,
   "id": "3d2d1869",
   "metadata": {
    "execution": {
     "iopub.execute_input": "2023-10-20T00:29:03.903933Z",
     "iopub.status.busy": "2023-10-20T00:29:03.903568Z",
     "iopub.status.idle": "2023-10-20T00:29:03.919456Z",
     "shell.execute_reply": "2023-10-20T00:29:03.918537Z"
    },
    "papermill": {
     "duration": 0.029553,
     "end_time": "2023-10-20T00:29:03.922155",
     "exception": false,
     "start_time": "2023-10-20T00:29:03.892602",
     "status": "completed"
    },
    "tags": []
   },
   "outputs": [],
   "source": [
    "df_input = fin_data.merge(df,on='date', how= 'outer')"
   ]
  },
  {
   "cell_type": "code",
   "execution_count": 26,
   "id": "77a6b91e",
   "metadata": {
    "execution": {
     "iopub.execute_input": "2023-10-20T00:29:03.943572Z",
     "iopub.status.busy": "2023-10-20T00:29:03.943189Z",
     "iopub.status.idle": "2023-10-20T00:29:03.953765Z",
     "shell.execute_reply": "2023-10-20T00:29:03.952717Z"
    },
    "papermill": {
     "duration": 0.02398,
     "end_time": "2023-10-20T00:29:03.955877",
     "exception": false,
     "start_time": "2023-10-20T00:29:03.931897",
     "status": "completed"
    },
    "tags": []
   },
   "outputs": [
    {
     "data": {
      "text/plain": [
       "date\n",
       "2016-01-04     1\n",
       "2016-01-05     5\n",
       "2016-01-06     1\n",
       "2016-01-07     3\n",
       "2016-01-08     2\n",
       "              ..\n",
       "2022-12-22    11\n",
       "2022-12-23     9\n",
       "2022-12-27     4\n",
       "2022-12-28     7\n",
       "2022-12-29     4\n",
       "Name: Close, Length: 1761, dtype: int64"
      ]
     },
     "execution_count": 26,
     "metadata": {},
     "output_type": "execute_result"
    }
   ],
   "source": [
    "df_input.groupby(\"date\")[\"Close\"].count()"
   ]
  },
  {
   "cell_type": "code",
   "execution_count": 27,
   "id": "28f7f057",
   "metadata": {
    "execution": {
     "iopub.execute_input": "2023-10-20T00:29:03.977003Z",
     "iopub.status.busy": "2023-10-20T00:29:03.976641Z",
     "iopub.status.idle": "2023-10-20T00:29:04.337692Z",
     "shell.execute_reply": "2023-10-20T00:29:04.336825Z"
    },
    "papermill": {
     "duration": 0.375911,
     "end_time": "2023-10-20T00:29:04.341494",
     "exception": false,
     "start_time": "2023-10-20T00:29:03.965583",
     "status": "completed"
    },
    "tags": []
   },
   "outputs": [
    {
     "data": {
      "image/png": "[encoded data removed]",
      "text/plain": [
       "<Figure size 1200x600 with 1 Axes>"
      ]
     },
     "metadata": {},
     "output_type": "display_data"
    }
   ],
   "source": [
    "import matplotlib.pyplot as plt\n",
    "df_input['date'] = pd.to_datetime(df_input['date'])\n",
    "headline_counts = df_input.groupby(\"date\")[\"headline\"].count()\n",
    "\n",
    "plt.figure(figsize=(12,6))\n",
    "headline_counts.plot()\n",
    "plt.title('Number of News Headlines per Day')\n",
    "plt.xlabel('Date')\n",
    "plt.ylabel('Number of Headlines')\n",
    "plt.grid(True)\n",
    "plt.tight_layout()\n",
    "plt.show()\n"
   ]
  },
  {
   "cell_type": "code",
   "execution_count": 28,
   "id": "80904df7",
   "metadata": {
    "execution": {
     "iopub.execute_input": "2023-10-20T00:29:04.368574Z",
     "iopub.status.busy": "2023-10-20T00:29:04.367872Z",
     "iopub.status.idle": "2023-10-20T00:29:05.695095Z",
     "shell.execute_reply": "2023-10-20T00:29:05.694235Z"
    },
    "papermill": {
     "duration": 1.343037,
     "end_time": "2023-10-20T00:29:05.697572",
     "exception": false,
     "start_time": "2023-10-20T00:29:04.354535",
     "status": "completed"
    },
    "tags": []
   },
   "outputs": [],
   "source": [
    "df_input.to_csv('/kaggle/working/SP500_all.csv')"
   ]
  }
 ],
 "metadata": {
  "kernelspec": {
   "display_name": "Python 3",
   "language": "python",
   "name": "python3"
  },
  "language_info": {
   "codemirror_mode": {
    "name": "ipython",
    "version": 3
   },
   "file_extension": ".py",
   "mimetype": "text/x-python",
   "name": "python",
   "nbconvert_exporter": "python",
   "pygments_lexer": "ipython3",
   "version": "3.7.12"
  },
  "papermill": {
   "default_parameters": {},
   "duration": 113.780212,
   "end_time": "2023-10-20T00:29:06.531780",
   "environment_variables": {},
   "exception": null,
   "input_path": "__notebook__.ipynb",
   "output_path": "__notebook__.ipynb",
   "parameters": {},
   "start_time": "2023-10-20T00:27:12.751568",
   "version": "2.4.0"
  }
 },
 "nbformat": 4,
 "nbformat_minor": 5
}
