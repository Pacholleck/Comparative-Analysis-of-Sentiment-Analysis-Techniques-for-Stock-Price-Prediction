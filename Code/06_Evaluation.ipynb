{
 "cells": [
  {
   "cell_type": "code",
   "execution_count": 1,
   "id": "b468cfdd",
   "metadata": {},
   "outputs": [],
   "source": [
    "import pandas as pd\n",
    "import numpy as np\n",
    "\n",
    "from sklearn.metrics import mean_absolute_error, mean_squared_error\n",
    "from math import sqrt\n",
    "\n",
    "import matplotlib.pyplot as plt"
   ]
  },
  {
   "cell_type": "code",
   "execution_count": null,
   "id": "e46d5627",
   "metadata": {},
   "outputs": [],
   "source": [
    "df ="
   ]
  },
  {
   "cell_type": "code",
   "execution_count": null,
   "id": "1619239a",
   "metadata": {},
   "outputs": [],
   "source": [
    "evaluation = pd.DataFrame(columns=['Model', 'AUC', 'GINI'])\n",
    "def run_evaluation(y_test, y_pred, model):\n",
    "    model = model\n",
    "    # Calculate the error metrics\n",
    "    mae = mean_absolute_error(y_test, y_pred)\n",
    "    mse = mean_squared_error(y_test, y_pred)\n",
    "    rmse = sqrt(mse)\n",
    "    \n",
    "    \n",
    "\n",
    "print(f'MAE: {mae}')\n",
    "print(f'MSE: {mse}')\n",
    "print(f'RMSE: {rmse}')"
   ]
  },
  {
   "cell_type": "code",
   "execution_count": null,
   "id": "03fa16e2",
   "metadata": {},
   "outputs": [],
   "source": [
    "evaluate = pd.DataFrame(columns=['Model',\n",
    "                                 'MAE', \n",
    "                                 'MSE',\n",
    "                                 'RMSE',\n",
    "                                 'MAPE',\n",
    "#                                  'R2',\n",
    "                                ])\n",
    "\n",
    "def model_eval(model_name, y_pred, evaluate):\n",
    "    evaluate = evaluate.append({'Model':model_name,\n",
    "                               'MAE':mean_absolute_error(y_test, y_pred),\n",
    "                               'MSE':mean_squared_error(y_test, y_pred),\n",
    "                                'RMSE': np.sqrt(mean_squared_error(y_test, y_pred)),\n",
    "                               'MAPE':mean_absolute_percentage_error(y_test,y_pred)\n",
    "#                                'R2':r2_score(y_test,y_pred)},ignore_index=True\n",
    "                               }, ignore_index = True)\n",
    "    return evaluate\n",
    "\n",
    "def viz_eval(y_pred, label):\n",
    "    x_ax = range(len(y_pred))\n",
    "    plt.scatter(x_ax, y_test, s=5, color=\"blue\", label=\"Original\")\n",
    "    plt.plot(x_ax, y_pred, lw=0.8, color=\"red\", label=label)\n",
    "    plt.legend()\n",
    "    plt.show()"
   ]
  },
  {
   "cell_type": "code",
   "execution_count": null,
   "id": "6c45517e",
   "metadata": {},
   "outputs": [],
   "source": [
    "evaluate = model_eval('Vader', pred['Vader'],evaluate)\n",
    "evaluate = model_eval('Blob', pred['Blob'],evaluate)\n",
    "evaluate = model_eval('FinBert', pred['FinBert'],evaluate)\n",
    "evaluate= evaluate.sort_values(\"MAPE\", ignore_index= True)\n",
    "evaluate"
   ]
  },
  {
   "cell_type": "code",
   "execution_count": null,
   "id": "d0ab9e8f",
   "metadata": {},
   "outputs": [],
   "source": [
    "# Plot the actual and predicted returns\n",
    "plt.figure(figsize=(14, 5))\n",
    "plt.plot(y_test, color='blue', label='Actual returns')\n",
    "plt.plot(y_pred, color='red', label='Predicted returns Vader')\n",
    "plt.plot(y_pred, color='green', label='Predicted returns Blob')\n",
    "plt.plot(y_pred, color='yellow', label='Predicted returns FinBert')\n",
    "plt.title('Stock returns prediction')\n",
    "plt.xlabel('Time')\n",
    "plt.ylabel('Normalized stock returns')\n",
    "plt.legend()\n",
    "plt.show()"
   ]
  }
 ],
 "metadata": {
  "kernelspec": {
   "display_name": "Python 3 (ipykernel)",
   "language": "python",
   "name": "python3"
  },
  "language_info": {
   "codemirror_mode": {
    "name": "ipython",
    "version": 3
   },
   "file_extension": ".py",
   "mimetype": "text/x-python",
   "name": "python",
   "nbconvert_exporter": "python",
   "pygments_lexer": "ipython3",
   "version": "3.8.8"
  }
 },
 "nbformat": 4,
 "nbformat_minor": 5
}
