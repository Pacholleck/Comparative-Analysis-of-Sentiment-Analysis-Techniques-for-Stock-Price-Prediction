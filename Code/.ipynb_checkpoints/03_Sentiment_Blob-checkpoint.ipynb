{
 "cells": [
  {
   "cell_type": "code",
   "execution_count": 4,
   "id": "f3894d22",
   "metadata": {},
   "outputs": [],
   "source": [
    "# Import libraries\n",
    "import os\n",
    "\n",
    "import pandas as pd\n",
    "import numpy as np\n",
    "\n",
    "from textblob import TextBlob"
   ]
  },
  {
   "cell_type": "code",
   "execution_count": 5,
   "id": "d95d3161",
   "metadata": {},
   "outputs": [],
   "source": [
    "df_news = pd.read_csv(os.path.join('..', 'data', 'RedditNews_preprocessed.csv'))"
   ]
  },
  {
   "cell_type": "code",
   "execution_count": 6,
   "id": "ce360f8b",
   "metadata": {},
   "outputs": [],
   "source": [
    "def get_sentiment_Blob(text):\n",
    "    # Create a TextBlob object\n",
    "    blob = TextBlob(str(text))\n",
    "    \n",
    "    # Get the sentiment\n",
    "    sentiment = blob.sentiment\n",
    "    \n",
    "    # Return the compound score\n",
    "    return sentiment[0]\n",
    "\n",
    "# Apply the function to the headlines\n",
    "df_news['sentiment_blob'] = df_news['News_Preprocessed'].apply(get_sentiment_Blob)"
   ]
  },
  {
   "cell_type": "code",
   "execution_count": 7,
   "id": "051ed12a",
   "metadata": {},
   "outputs": [],
   "source": [
    "df_news.to_csv(os.path.join('..', 'data', 'RedditNews_Blob.csv'))"
   ]
  }
 ],
 "metadata": {
  "kernelspec": {
   "display_name": "Python 3 (ipykernel)",
   "language": "python",
   "name": "python3"
  },
  "language_info": {
   "codemirror_mode": {
    "name": "ipython",
    "version": 3
   },
   "file_extension": ".py",
   "mimetype": "text/x-python",
   "name": "python",
   "nbconvert_exporter": "python",
   "pygments_lexer": "ipython3",
   "version": "3.8.8"
  }
 },
 "nbformat": 4,
 "nbformat_minor": 5
}
