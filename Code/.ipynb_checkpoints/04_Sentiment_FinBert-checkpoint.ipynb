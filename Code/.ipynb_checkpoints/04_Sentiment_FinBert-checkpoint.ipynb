{
 "cells": [
  {
   "cell_type": "code",
   "execution_count": 1,
   "id": "25bd4ef4",
   "metadata": {},
   "outputs": [],
   "source": [
    "# Import libraries\n",
    "import os\n",
    "\n",
    "import pandas as pd\n",
    "import numpy as np\n",
    "\n",
    "from transformers import AutoTokenizer, AutoModelForSequenceClassification\n",
    "import torch\n",
    "from torch.nn import Softmax"
   ]
  },
  {
   "cell_type": "code",
   "execution_count": 2,
   "id": "c393c431",
   "metadata": {},
   "outputs": [],
   "source": [
    "df_news = pd.read_csv(os.path.join('..', 'data', 'RedditNews_preprocessed.csv'))"
   ]
  },
  {
   "cell_type": "code",
   "execution_count": null,
   "id": "6be76ef7",
   "metadata": {},
   "outputs": [],
   "source": [
    "# Check if a GPU is available and if not, use a CPU\n",
    "device = torch.device(\"cuda\" if torch.cuda.is_available() else \"cpu\")\n",
    "\n",
    "# Load pre-trained model and tokenizer (FinBERT from ProsusAI)\n",
    "tokenizer = AutoTokenizer.from_pretrained(\"ProsusAI/finbert\")\n",
    "model = AutoModelForSequenceClassification.from_pretrained(\"ProsusAI/finbert\")\n",
    "\n",
    "# Move the model to the GPU if one is available\n",
    "model = model.to(device)\n",
    "\n",
    "# Put model in evaluation mode\n",
    "model.eval()\n",
    "\n",
    "def get_sentiment_FinBert(text):\n",
    "    inputs = tokenizer(str(text), return_tensors=\"pt\")\n",
    "    \n",
    "    # Move the inputs to the GPU if one is available\n",
    "    inputs = inputs.to(device)\n",
    "\n",
    "    # Predict the sentiment\n",
    "    with torch.no_grad():\n",
    "        outputs = model(**inputs)\n",
    "\n",
    "    # Apply softmax to the output to get probabilities\n",
    "    probs = Softmax(dim=1)(outputs.logits)\n",
    "    \n",
    "    # Move probs to cpu\n",
    "    probs = probs.cpu()\n",
    "    \n",
    "    # Convert tensor to list and return separate values\n",
    "    probs = probs[0].tolist()\n",
    "    return probs[0], probs[1], probs[2]\n",
    "\n",
    "# Apply the function to the headlines\n",
    "df_news['sentiment_FinBert_positiv'],df_news['sentiment_FinBert_negative'],df_news['sentiment_FinBert_neutral'] = df_news['News'].apply(get_sentiment_FinBert)"
   ]
  },
  {
   "cell_type": "code",
   "execution_count": null,
   "id": "71ada88f",
   "metadata": {},
   "outputs": [],
   "source": [
    "df_news.to_csv(os.path.join('..', 'data', 'RedditNews_FinBert.csv'))"
   ]
  }
 ],
 "metadata": {
  "kernelspec": {
   "display_name": "Python 3 (ipykernel)",
   "language": "python",
   "name": "python3"
  },
  "language_info": {
   "codemirror_mode": {
    "name": "ipython",
    "version": 3
   },
   "file_extension": ".py",
   "mimetype": "text/x-python",
   "name": "python",
   "nbconvert_exporter": "python",
   "pygments_lexer": "ipython3",
   "version": "3.8.8"
  }
 },
 "nbformat": 4,
 "nbformat_minor": 5
}
