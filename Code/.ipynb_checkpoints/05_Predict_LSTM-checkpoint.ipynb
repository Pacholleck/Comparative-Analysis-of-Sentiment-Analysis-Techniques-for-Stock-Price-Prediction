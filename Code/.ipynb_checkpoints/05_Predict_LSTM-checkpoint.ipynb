{
 "cells": [
  {
   "cell_type": "code",
   "execution_count": null,
   "id": "1e1e44d8",
   "metadata": {},
   "outputs": [],
   "source": [
    "import numpy as np\n",
    "import pandas as pd\n",
    "\n",
    "from keras.models import Sequential\n",
    "from keras.layers import LSTM, Dense"
   ]
  },
  {
   "cell_type": "code",
   "execution_count": null,
   "id": "ec5d44c2",
   "metadata": {},
   "outputs": [],
   "source": [
    "def run_LSTM(df, timesteps = 60):\n",
    "    # Calculate the index to split the data\n",
    "    split_idx = int(len(df) * 0.8)\n",
    "\n",
    "    # Split the data into training and testing sets\n",
    "    train = df.iloc[:split_idx]\n",
    "    test = df.iloc[split_idx:]\n",
    "    \n",
    "    # Define the number of timesteps\n",
    "    timesteps = timesteps\n",
    "    \n",
    "    # Prepare the training and testing data\n",
    "    X_train, y_train = prepare_data(train.values, timesteps)\n",
    "    X_test, y_test = prepare_data(test.values, timesteps)\n",
    "\n",
    "    # Get the number of features from the training data\n",
    "    num_features = X_train.shape[-1]\n",
    "\n",
    "    # Reshape the data to the format required by the LSTM\n",
    "    X_train = np.reshape(X_train, (X_train.shape[0], X_train.shape[1], num_features))\n",
    "    X_test = np.reshape(X_test, (X_test.shape[0], X_test.shape[1], num_features))\n",
    "    \n",
    "    # Initialize the model\n",
    "    model = Sequential()\n",
    "\n",
    "    # Add the LSTM layer\n",
    "    model.add(LSTM(units=50, return_sequences=False, input_shape=(X_train.shape[1], num_features)))\n",
    "\n",
    "    # Add the output layer\n",
    "    model.add(Dense(units=1))\n",
    "\n",
    "    # Compile the model\n",
    "    model.compile(optimizer='adam', loss='mean_squared_error')\n",
    "    \n",
    "    # Train the model\n",
    "    model.fit(X_train, y_train, epochs=100, batch_size=32)\n",
    "\n",
    "    # Make predictions\n",
    "    y_pred = model.predict(X_test)\n",
    "    \n",
    "    return y_pred\n",
    "\n",
    "# Define a function to prepare the data for the LSTM\n",
    "def prepare_data(data, timesteps):\n",
    "    X = []\n",
    "    y = []\n",
    "    \n",
    "    for i in range(timesteps, len(data)):\n",
    "        X.append(data[i-timesteps:i])\n",
    "        y.append(data[i, -1])\n",
    "    \n",
    "    return np.array(X), np.array(y)"
   ]
  },
  {
   "cell_type": "code",
   "execution_count": null,
   "id": "f395a280",
   "metadata": {},
   "outputs": [],
   "source": [
    "import numpy as np\n",
    "\n",
    "# Define the number of timesteps\n",
    "timesteps = 60\n",
    "\n",
    "# Define a function to prepare the data for the LSTM\n",
    "def prepare_data(data, timesteps):\n",
    "    X = []\n",
    "    y = []\n",
    "    \n",
    "    for i in range(timesteps, len(data)):\n",
    "        X.append(data[i-timesteps:i])\n",
    "        y.append(data[i, -1])\n",
    "    \n",
    "    return np.array(X), np.array(y)\n",
    "\n",
    "# Prepare the training and testing data\n",
    "X_train, y_train = prepare_data(train.values, timesteps)\n",
    "X_test, y_test = prepare_data(test.values, timesteps)\n",
    "\n",
    "# Get the number of features from the training data\n",
    "num_features = X_train.shape[-1]\n",
    "\n",
    "# Reshape the data to the format required by the LSTM\n",
    "X_train = np.reshape(X_train, (X_train.shape[0], X_train.shape[1], num_features))\n",
    "X_test = np.reshape(X_test, (X_test.shape[0], X_test.shape[1], num_features))\n"
   ]
  },
  {
   "cell_type": "code",
   "execution_count": null,
   "id": "f852a5e2",
   "metadata": {},
   "outputs": [],
   "source": [
    "from keras.models import Sequential\n",
    "from keras.layers import LSTM, Dense\n",
    "\n",
    "# Initialize the model\n",
    "model = Sequential()\n",
    "\n",
    "# Add the LSTM layer\n",
    "model.add(LSTM(units=50, return_sequences=False, input_shape=(X_train.shape[1], num_features)))\n",
    "\n",
    "# Add the output layer\n",
    "model.add(Dense(units=1))\n",
    "\n",
    "# Compile the model\n",
    "model.compile(optimizer='adam', loss='mean_squared_error')\n"
   ]
  },
  {
   "cell_type": "code",
   "execution_count": null,
   "id": "80b41732",
   "metadata": {},
   "outputs": [],
   "source": [
    "# Train the model\n",
    "model.fit(X_train, y_train, epochs=100, batch_size=32)"
   ]
  },
  {
   "cell_type": "code",
   "execution_count": null,
   "id": "facb9200",
   "metadata": {},
   "outputs": [],
   "source": [
    "# Make predictions\n",
    "y_pred = model.predict(X_test)"
   ]
  }
 ],
 "metadata": {
  "kernelspec": {
   "display_name": "Python 3 (ipykernel)",
   "language": "python",
   "name": "python3"
  },
  "language_info": {
   "codemirror_mode": {
    "name": "ipython",
    "version": 3
   },
   "file_extension": ".py",
   "mimetype": "text/x-python",
   "name": "python",
   "nbconvert_exporter": "python",
   "pygments_lexer": "ipython3",
   "version": "3.8.8"
  }
 },
 "nbformat": 4,
 "nbformat_minor": 5
}
