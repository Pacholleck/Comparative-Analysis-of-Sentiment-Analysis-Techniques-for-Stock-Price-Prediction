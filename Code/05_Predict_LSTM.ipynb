{
 "cells": [
  {
   "cell_type": "code",
   "execution_count": 1,
   "id": "6fd3fefb",
   "metadata": {
    "execution": {
     "iopub.execute_input": "2023-07-24T18:31:02.099711Z",
     "iopub.status.busy": "2023-07-24T18:31:02.099351Z",
     "iopub.status.idle": "2023-07-24T18:31:10.050507Z",
     "shell.execute_reply": "2023-07-24T18:31:10.049524Z",
     "shell.execute_reply.started": "2023-07-24T18:31:02.099683Z"
    }
   },
   "outputs": [
    {
     "name": "stderr",
     "output_type": "stream",
     "text": [
      "/opt/conda/lib/python3.10/site-packages/scipy/__init__.py:146: UserWarning: A NumPy version >=1.16.5 and <1.23.0 is required for this version of SciPy (detected version 1.23.5\n",
      "  warnings.warn(f\"A NumPy version >={np_minversion} and <{np_maxversion}\"\n",
      "/opt/conda/lib/python3.10/site-packages/tensorflow_io/python/ops/__init__.py:98: UserWarning: unable to load libtensorflow_io_plugins.so: unable to open file: libtensorflow_io_plugins.so, from paths: ['/opt/conda/lib/python3.10/site-packages/tensorflow_io/python/ops/libtensorflow_io_plugins.so']\n",
      "caused by: ['/opt/conda/lib/python3.10/site-packages/tensorflow_io/python/ops/libtensorflow_io_plugins.so: undefined symbol: _ZN3tsl6StatusC1EN10tensorflow5error4CodeESt17basic_string_viewIcSt11char_traitsIcEENS_14SourceLocationE']\n",
      "  warnings.warn(f\"unable to load libtensorflow_io_plugins.so: {e}\")\n",
      "/opt/conda/lib/python3.10/site-packages/tensorflow_io/python/ops/__init__.py:104: UserWarning: file system plugins are not loaded: unable to open file: libtensorflow_io.so, from paths: ['/opt/conda/lib/python3.10/site-packages/tensorflow_io/python/ops/libtensorflow_io.so']\n",
      "caused by: ['/opt/conda/lib/python3.10/site-packages/tensorflow_io/python/ops/libtensorflow_io.so: undefined symbol: _ZTVN10tensorflow13GcsFileSystemE']\n",
      "  warnings.warn(f\"file system plugins are not loaded: {e}\")\n"
     ]
    }
   ],
   "source": [
    "# Import libraries\n",
    "import os\n",
    "\n",
    "import numpy as np\n",
    "import pandas as pd\n",
    "\n",
    "from keras.models import Sequential\n",
    "from keras.layers import LSTM, Dense"
   ]
  },
  {
   "cell_type": "code",
   "execution_count": 2,
   "id": "696a9533",
   "metadata": {
    "execution": {
     "iopub.execute_input": "2023-07-24T18:31:28.054528Z",
     "iopub.status.busy": "2023-07-24T18:31:28.053835Z",
     "iopub.status.idle": "2023-07-24T18:31:28.946942Z",
     "shell.execute_reply": "2023-07-24T18:31:28.945851Z",
     "shell.execute_reply.started": "2023-07-24T18:31:28.054495Z"
    }
   },
   "outputs": [],
   "source": [
    "df_finbert = pd.read_csv('/kaggle/input/redditnews/RedditNews_FinBert.csv')\n",
    "df_vader = pd.read_csv('/kaggle/input/redditnews/RedditNews_Vader.csv')\n",
    "\n",
    "df_stock = pd.read_csv('/kaggle/input/redditnews/upload_DJIA_table_preprocessed.csv')"
   ]
  },
  {
   "cell_type": "code",
   "execution_count": 3,
   "id": "9f48e922",
   "metadata": {
    "execution": {
     "iopub.execute_input": "2023-07-24T18:31:29.131245Z",
     "iopub.status.busy": "2023-07-24T18:31:29.130766Z",
     "iopub.status.idle": "2023-07-24T18:31:29.186280Z",
     "shell.execute_reply": "2023-07-24T18:31:29.185379Z",
     "shell.execute_reply.started": "2023-07-24T18:31:29.131214Z"
    }
   },
   "outputs": [],
   "source": [
    "# Calculate the mean sentiment score for each stock for each day\n",
    "df_finbert = df_finbert.groupby('Date') \\\n",
    "       .agg({'sentiment_FinBert_positive':'mean',\n",
    "            'sentiment_FinBert_negative':'mean',\n",
    "            'sentiment_FinBert_neutral':'mean'}) \\\n",
    "       .rename(columns={'sentiment_FinBert_positive':'sentiment_FinBert_positive',\n",
    "                        'sentiment_FinBert_negative':'sentiment_FinBert_negative',\n",
    "                        'sentiment_FinBert_neutral':'sentiment_FinBert_neutral'}) \\\n",
    "       .reset_index()\n",
    "\n",
    "# Calculate the mean sentiment score for each stock for each day\n",
    "df_vader = df_vader.groupby('Date') \\\n",
    "       .agg({'sentiment_vader':'mean'}) \\\n",
    "       .rename(columns={'sentiment_vader':'sentiment_vader'}) \\\n",
    "       .reset_index()"
   ]
  },
  {
   "cell_type": "code",
   "execution_count": 4,
   "id": "84d04037",
   "metadata": {
    "execution": {
     "iopub.execute_input": "2023-07-24T18:31:30.091371Z",
     "iopub.status.busy": "2023-07-24T18:31:30.090488Z",
     "iopub.status.idle": "2023-07-24T18:31:30.118732Z",
     "shell.execute_reply": "2023-07-24T18:31:30.117827Z",
     "shell.execute_reply.started": "2023-07-24T18:31:30.091329Z"
    }
   },
   "outputs": [],
   "source": [
    "df_finbert = df_finbert.merge(df_stock[['Date', 'returns']], on='Date')\n",
    "df_vader = df_vader.merge(df_stock[['Date', 'returns']], on='Date')\n",
    "\n",
    "df_finbert['Date'] = pd.to_datetime(df_finbert['Date'])\n",
    "df_vader['Date'] = pd.to_datetime(df_vader['Date'])\n",
    "\n",
    "# set the index\n",
    "df_finbert.set_index('Date', inplace=True)\n",
    "df_vader.set_index('Date', inplace=True)"
   ]
  },
  {
   "cell_type": "code",
   "execution_count": 6,
   "id": "34e62e5d",
   "metadata": {
    "execution": {
     "iopub.execute_input": "2023-07-24T18:31:32.975447Z",
     "iopub.status.busy": "2023-07-24T18:31:32.975090Z",
     "iopub.status.idle": "2023-07-24T18:31:32.987114Z",
     "shell.execute_reply": "2023-07-24T18:31:32.986065Z",
     "shell.execute_reply.started": "2023-07-24T18:31:32.975418Z"
    }
   },
   "outputs": [],
   "source": [
    "from keras.callbacks import EarlyStopping, ModelCheckpoint, TensorBoard\n",
    "import h5py\n",
    "\n",
    "\n",
    "# Define a function to prepare the data for the LSTM\n",
    "def prepare_data(data, timesteps):\n",
    "    X = []\n",
    "    y = []\n",
    "    \n",
    "    for i in range(timesteps, len(data)):\n",
    "        X.append(data[i-timesteps:i])\n",
    "        y.append(data[i, -1])\n",
    "    \n",
    "    return np.array(X), np.array(y)\n",
    "\n",
    "def run_LSTM(df, timesteps = 60):\n",
    "    # Calculate the index to split the data\n",
    "    split_idx = int(len(df) * 0.8)\n",
    "\n",
    "    # Split the data into training and testing sets\n",
    "    train = df.iloc[:split_idx]\n",
    "    test = df.iloc[split_idx:]\n",
    "    \n",
    "    # Prepare the training and testing data\n",
    "    X_train, y_train = prepare_data(train.values, timesteps)\n",
    "    X_test, y_test = prepare_data(test.values, timesteps)\n",
    "\n",
    "    # Get the number of features from the training data\n",
    "    num_features = X_train.shape[-1]\n",
    "\n",
    "    # Reshape the data to the format required by the LSTM\n",
    "    X_train = np.reshape(X_train, (X_train.shape[0], X_train.shape[1], num_features))\n",
    "    X_test = np.reshape(X_test, (X_test.shape[0], X_test.shape[1], num_features))\n",
    "    \n",
    "    # Initialize the model\n",
    "    model = Sequential()\n",
    "\n",
    "    # Add the LSTM layer\n",
    "    model.add(LSTM(units=50, return_sequences=False, input_shape=(X_train.shape[1], num_features)))\n",
    "\n",
    "    # Add the output layer\n",
    "    model.add(Dense(units=1))\n",
    "\n",
    "    # Compile the model\n",
    "    model.compile(optimizer='adam', loss='mean_squared_error')\n",
    "    \n",
    "    # Define the callbacks\n",
    "    callbacks = [\n",
    "        EarlyStopping(monitor='val_loss', patience=10),\n",
    "        ModelCheckpoint('best_model.h5', save_best_only=True, monitor='val_loss'),\n",
    "        TensorBoard(log_dir='./logs')\n",
    "    ]\n",
    "    \n",
    "    # Train the model\n",
    "    model.fit(X_train, y_train, epochs=100, batch_size=32, validation_split=0.2, callbacks=callbacks)\n",
    "\n",
    "    # Make predictions\n",
    "    y_pred = model.predict(X_test)\n",
    "    \n",
    "    return y_pred,y_test\n"
   ]
  },
  {
   "cell_type": "code",
   "execution_count": 7,
   "id": "cd7d56ad",
   "metadata": {
    "execution": {
     "iopub.execute_input": "2023-07-24T18:31:36.492127Z",
     "iopub.status.busy": "2023-07-24T18:31:36.491671Z",
     "iopub.status.idle": "2023-07-24T18:32:03.371515Z",
     "shell.execute_reply": "2023-07-24T18:32:03.370564Z",
     "shell.execute_reply.started": "2023-07-24T18:31:36.492087Z"
    },
    "scrolled": true
   },
   "outputs": [
    {
     "name": "stdout",
     "output_type": "stream",
     "text": [
      "Epoch 1/100\n",
      "39/39 [==============================] - 8s 20ms/step - loss: 5.0446e-04 - val_loss: 7.1485e-05\n",
      "Epoch 2/100\n",
      "39/39 [==============================] - 0s 8ms/step - loss: 1.7343e-04 - val_loss: 4.7185e-05\n",
      "Epoch 3/100\n",
      "39/39 [==============================] - 0s 7ms/step - loss: 1.6342e-04 - val_loss: 5.5559e-05\n",
      "Epoch 4/100\n",
      "39/39 [==============================] - 0s 8ms/step - loss: 1.7195e-04 - val_loss: 5.1173e-05\n",
      "Epoch 5/100\n",
      "39/39 [==============================] - 0s 7ms/step - loss: 1.6305e-04 - val_loss: 5.6451e-05\n",
      "Epoch 6/100\n",
      "39/39 [==============================] - 0s 7ms/step - loss: 1.7434e-04 - val_loss: 9.5213e-05\n",
      "Epoch 7/100\n",
      "39/39 [==============================] - 0s 8ms/step - loss: 1.7132e-04 - val_loss: 5.6760e-05\n",
      "Epoch 8/100\n",
      "39/39 [==============================] - 0s 8ms/step - loss: 1.7514e-04 - val_loss: 4.5116e-05\n",
      "Epoch 9/100\n",
      "39/39 [==============================] - 0s 9ms/step - loss: 1.6496e-04 - val_loss: 4.4808e-05\n",
      "Epoch 10/100\n",
      "39/39 [==============================] - 0s 8ms/step - loss: 1.5977e-04 - val_loss: 4.7753e-05\n",
      "Epoch 11/100\n",
      "39/39 [==============================] - 0s 7ms/step - loss: 1.6723e-04 - val_loss: 5.0955e-05\n",
      "Epoch 12/100\n",
      "39/39 [==============================] - 0s 7ms/step - loss: 1.7030e-04 - val_loss: 7.5335e-05\n",
      "Epoch 13/100\n",
      "39/39 [==============================] - 0s 8ms/step - loss: 1.6777e-04 - val_loss: 7.9970e-05\n",
      "Epoch 14/100\n",
      "39/39 [==============================] - 0s 7ms/step - loss: 2.2192e-04 - val_loss: 4.5202e-05\n",
      "Epoch 15/100\n",
      "39/39 [==============================] - 0s 7ms/step - loss: 1.6277e-04 - val_loss: 6.9898e-05\n",
      "Epoch 16/100\n",
      "39/39 [==============================] - 0s 7ms/step - loss: 1.8528e-04 - val_loss: 8.5511e-05\n",
      "Epoch 17/100\n",
      "39/39 [==============================] - 0s 8ms/step - loss: 1.6987e-04 - val_loss: 4.5926e-05\n",
      "Epoch 18/100\n",
      "39/39 [==============================] - 0s 7ms/step - loss: 1.7368e-04 - val_loss: 5.8547e-05\n",
      "Epoch 19/100\n",
      "39/39 [==============================] - 0s 7ms/step - loss: 1.6741e-04 - val_loss: 4.5135e-05\n",
      "11/11 [==============================] - 0s 3ms/step\n",
      "Epoch 1/100\n",
      "39/39 [==============================] - 3s 19ms/step - loss: 1.9502e-04 - val_loss: 5.2698e-05\n",
      "Epoch 2/100\n",
      "39/39 [==============================] - 0s 8ms/step - loss: 1.6746e-04 - val_loss: 4.9640e-05\n",
      "Epoch 3/100\n",
      "39/39 [==============================] - 0s 8ms/step - loss: 1.6722e-04 - val_loss: 4.7964e-05\n",
      "Epoch 4/100\n",
      "39/39 [==============================] - 0s 7ms/step - loss: 1.6118e-04 - val_loss: 5.1083e-05\n",
      "Epoch 5/100\n",
      "39/39 [==============================] - 0s 7ms/step - loss: 1.6133e-04 - val_loss: 5.3845e-05\n",
      "Epoch 6/100\n",
      "39/39 [==============================] - 0s 8ms/step - loss: 1.6308e-04 - val_loss: 4.3026e-05\n",
      "Epoch 7/100\n",
      "39/39 [==============================] - 0s 8ms/step - loss: 1.6444e-04 - val_loss: 5.7146e-05\n",
      "Epoch 8/100\n",
      "39/39 [==============================] - 0s 8ms/step - loss: 1.6060e-04 - val_loss: 4.6363e-05\n",
      "Epoch 9/100\n",
      "39/39 [==============================] - 0s 7ms/step - loss: 1.6010e-04 - val_loss: 4.4562e-05\n",
      "Epoch 10/100\n",
      "39/39 [==============================] - 0s 7ms/step - loss: 1.5894e-04 - val_loss: 5.4171e-05\n",
      "Epoch 11/100\n",
      "39/39 [==============================] - 0s 8ms/step - loss: 1.6148e-04 - val_loss: 4.3608e-05\n",
      "Epoch 12/100\n",
      "39/39 [==============================] - 0s 8ms/step - loss: 1.6207e-04 - val_loss: 4.5859e-05\n",
      "Epoch 13/100\n",
      "39/39 [==============================] - 0s 8ms/step - loss: 1.6272e-04 - val_loss: 5.9351e-05\n",
      "Epoch 14/100\n",
      "39/39 [==============================] - 0s 8ms/step - loss: 1.7217e-04 - val_loss: 5.0227e-05\n",
      "Epoch 15/100\n",
      "39/39 [==============================] - 0s 8ms/step - loss: 1.6400e-04 - val_loss: 6.8762e-05\n",
      "Epoch 16/100\n",
      "39/39 [==============================] - 0s 8ms/step - loss: 1.6762e-04 - val_loss: 4.3312e-05\n",
      "11/11 [==============================] - 0s 3ms/step\n"
     ]
    }
   ],
   "source": [
    "y_pred_finbert, y_test_finbert = run_LSTM(df_finbert)\n",
    "y_pred_vader, y_test_vader = run_LSTM(df_vader)"
   ]
  },
  {
   "cell_type": "code",
   "execution_count": 26,
   "id": "5038db4c",
   "metadata": {
    "execution": {
     "iopub.execute_input": "2023-07-24T18:41:28.881261Z",
     "iopub.status.busy": "2023-07-24T18:41:28.880832Z",
     "iopub.status.idle": "2023-07-24T18:41:28.889363Z",
     "shell.execute_reply": "2023-07-24T18:41:28.888193Z",
     "shell.execute_reply.started": "2023-07-24T18:41:28.881227Z"
    }
   },
   "outputs": [],
   "source": [
    "# Convert them into pandas dataframes\n",
    "y_pred_finbert_df = pd.DataFrame(y_pred_finbert, columns=['y_pred_FinBert'])\n",
    "y_test_finbert_df = pd.DataFrame(y_test_finbert, columns=['y_test_FinBert'])\n",
    "y_pred_vader_df = pd.DataFrame(y_pred_vader, columns=['y_pred_Vader'])\n",
    "y_test_vader_df = pd.DataFrame(y_test_vader, columns=['y_test_Vader'])\n",
    "\n",
    "# Combine them into a single dataframe\n",
    "results = pd.concat([y_pred_finbert_df, y_test_finbert_df,y_pred_vader_df, y_test_vader_df], axis=1)"
   ]
  },
  {
   "cell_type": "code",
   "execution_count": 28,
   "id": "0dc844f6",
   "metadata": {
    "execution": {
     "iopub.execute_input": "2023-07-24T18:42:48.623418Z",
     "iopub.status.busy": "2023-07-24T18:42:48.623043Z",
     "iopub.status.idle": "2023-07-24T18:42:48.636207Z",
     "shell.execute_reply": "2023-07-24T18:42:48.634952Z",
     "shell.execute_reply.started": "2023-07-24T18:42:48.623390Z"
    }
   },
   "outputs": [],
   "source": [
    "results\n",
    "results.to_csv('RedditNews_Results.csv', index=False)"
   ]
  }
 ],
 "metadata": {
  "kernelspec": {
   "display_name": "Python 3 (ipykernel)",
   "language": "python",
   "name": "python3"
  },
  "language_info": {
   "codemirror_mode": {
    "name": "ipython",
    "version": 3
   },
   "file_extension": ".py",
   "mimetype": "text/x-python",
   "name": "python",
   "nbconvert_exporter": "python",
   "pygments_lexer": "ipython3",
   "version": "3.8.8"
  }
 },
 "nbformat": 4,
 "nbformat_minor": 5
}
