{
 "cells": [
  {
   "cell_type": "code",
   "execution_count": 1,
   "id": "01e48319",
   "metadata": {},
   "outputs": [
    {
     "name": "stderr",
     "output_type": "stream",
     "text": [
      "[nltk_data] Downloading package vader_lexicon to\n",
      "[nltk_data]     C:\\Users\\duzzi\\AppData\\Roaming\\nltk_data...\n",
      "[nltk_data]   Package vader_lexicon is already up-to-date!\n"
     ]
    },
    {
     "data": {
      "text/plain": [
       "True"
      ]
     },
     "execution_count": 1,
     "metadata": {},
     "output_type": "execute_result"
    }
   ],
   "source": [
    "# Import libraries\n",
    "import os\n",
    "\n",
    "import pandas as pd\n",
    "import numpy as np\n",
    "\n",
    "from nltk.sentiment.vader import SentimentIntensityAnalyzer\n",
    "import nltk\n",
    "nltk.download('vader_lexicon')"
   ]
  },
  {
   "cell_type": "code",
   "execution_count": 2,
   "id": "af321015",
   "metadata": {},
   "outputs": [],
   "source": [
    "df_news = pd.read_csv(os.path.join('..', 'data', 'RedditNews_preprocessed.csv'))"
   ]
  },
  {
   "cell_type": "code",
   "execution_count": 3,
   "id": "1bd60162",
   "metadata": {},
   "outputs": [
    {
     "data": {
      "text/html": [
       "<div>\n",
       "<style scoped>\n",
       "    .dataframe tbody tr th:only-of-type {\n",
       "        vertical-align: middle;\n",
       "    }\n",
       "\n",
       "    .dataframe tbody tr th {\n",
       "        vertical-align: top;\n",
       "    }\n",
       "\n",
       "    .dataframe thead th {\n",
       "        text-align: right;\n",
       "    }\n",
       "</style>\n",
       "<table border=\"1\" class=\"dataframe\">\n",
       "  <thead>\n",
       "    <tr style=\"text-align: right;\">\n",
       "      <th></th>\n",
       "      <th>Date</th>\n",
       "      <th>News</th>\n",
       "      <th>News_Preprocessed</th>\n",
       "      <th>News_Preprocessed_advanced</th>\n",
       "    </tr>\n",
       "  </thead>\n",
       "  <tbody>\n",
       "    <tr>\n",
       "      <th>0</th>\n",
       "      <td>2016-07-01</td>\n",
       "      <td>A 117-year-old woman in Mexico City finally re...</td>\n",
       "      <td>A -year-old woman in Mexico City finally recei...</td>\n",
       "      <td>A yearold woman Mexico City finally received b...</td>\n",
       "    </tr>\n",
       "    <tr>\n",
       "      <th>1</th>\n",
       "      <td>2016-07-01</td>\n",
       "      <td>IMF chief backs Athens as permanent Olympic host</td>\n",
       "      <td>IMF chief backs Athens as permanent Olympic host</td>\n",
       "      <td>IMF chief back Athens permanent Olympic host</td>\n",
       "    </tr>\n",
       "    <tr>\n",
       "      <th>2</th>\n",
       "      <td>2016-07-01</td>\n",
       "      <td>The president of France says if Brexit won, so...</td>\n",
       "      <td>The president of France says if Brexit won, so...</td>\n",
       "      <td>The president France say Brexit Donald Trump</td>\n",
       "    </tr>\n",
       "    <tr>\n",
       "      <th>3</th>\n",
       "      <td>2016-07-01</td>\n",
       "      <td>British Man Who Must Give Police 24 Hours' Not...</td>\n",
       "      <td>British Man Who Must Give Police  Hours' Notic...</td>\n",
       "      <td>British Man Who Must Give Police Hours Notice ...</td>\n",
       "    </tr>\n",
       "    <tr>\n",
       "      <th>4</th>\n",
       "      <td>2016-07-01</td>\n",
       "      <td>100+ Nobel laureates urge Greenpeace to stop o...</td>\n",
       "      <td>+ Nobel laureates urge Greenpeace to stop oppo...</td>\n",
       "      <td>Nobel laureate urge Greenpeace stop opposing GMOs</td>\n",
       "    </tr>\n",
       "    <tr>\n",
       "      <th>...</th>\n",
       "      <td>...</td>\n",
       "      <td>...</td>\n",
       "      <td>...</td>\n",
       "      <td>...</td>\n",
       "    </tr>\n",
       "    <tr>\n",
       "      <th>73603</th>\n",
       "      <td>2008-06-08</td>\n",
       "      <td>b'Man goes berzerk in Akihabara and stabs ever...</td>\n",
       "      <td>Man goes berzerk in Akihabara and stabs everyo...</td>\n",
       "      <td>Man go berzerk Akihabara stab everyone nearby ...</td>\n",
       "    </tr>\n",
       "    <tr>\n",
       "      <th>73604</th>\n",
       "      <td>2008-06-08</td>\n",
       "      <td>b'Threat of world AIDS pandemic among heterose...</td>\n",
       "      <td>Threat of world AIDS pandemic among heterosexu...</td>\n",
       "      <td>Threat world AIDS pandemic among heterosexual ...</td>\n",
       "    </tr>\n",
       "    <tr>\n",
       "      <th>73605</th>\n",
       "      <td>2008-06-08</td>\n",
       "      <td>b'Angst in Ankara: Turkey Steers into a Danger...</td>\n",
       "      <td>Angst in Ankara: Turkey Steers into a Dangerou...</td>\n",
       "      <td>Angst Ankara Turkey Steers Dangerous Identity ...</td>\n",
       "    </tr>\n",
       "    <tr>\n",
       "      <th>73606</th>\n",
       "      <td>2008-06-08</td>\n",
       "      <td>b\"UK: Identity cards 'could be used to spy on ...</td>\n",
       "      <td>UK: Identity cards 'could be used to spy on pe...</td>\n",
       "      <td>UK Identity card could used spy people new chi...</td>\n",
       "    </tr>\n",
       "    <tr>\n",
       "      <th>73607</th>\n",
       "      <td>2008-06-08</td>\n",
       "      <td>b'Marriage, they said, was reduced to the stat...</td>\n",
       "      <td>Marriage, they said, was reduced to the status...</td>\n",
       "      <td>Marriage said reduced status commercial transa...</td>\n",
       "    </tr>\n",
       "  </tbody>\n",
       "</table>\n",
       "<p>73608 rows × 4 columns</p>\n",
       "</div>"
      ],
      "text/plain": [
       "             Date                                               News   \n",
       "0      2016-07-01  A 117-year-old woman in Mexico City finally re...  \\\n",
       "1      2016-07-01   IMF chief backs Athens as permanent Olympic host   \n",
       "2      2016-07-01  The president of France says if Brexit won, so...   \n",
       "3      2016-07-01  British Man Who Must Give Police 24 Hours' Not...   \n",
       "4      2016-07-01  100+ Nobel laureates urge Greenpeace to stop o...   \n",
       "...           ...                                                ...   \n",
       "73603  2008-06-08  b'Man goes berzerk in Akihabara and stabs ever...   \n",
       "73604  2008-06-08  b'Threat of world AIDS pandemic among heterose...   \n",
       "73605  2008-06-08  b'Angst in Ankara: Turkey Steers into a Danger...   \n",
       "73606  2008-06-08  b\"UK: Identity cards 'could be used to spy on ...   \n",
       "73607  2008-06-08  b'Marriage, they said, was reduced to the stat...   \n",
       "\n",
       "                                       News_Preprocessed   \n",
       "0      A -year-old woman in Mexico City finally recei...  \\\n",
       "1       IMF chief backs Athens as permanent Olympic host   \n",
       "2      The president of France says if Brexit won, so...   \n",
       "3      British Man Who Must Give Police  Hours' Notic...   \n",
       "4      + Nobel laureates urge Greenpeace to stop oppo...   \n",
       "...                                                  ...   \n",
       "73603  Man goes berzerk in Akihabara and stabs everyo...   \n",
       "73604  Threat of world AIDS pandemic among heterosexu...   \n",
       "73605  Angst in Ankara: Turkey Steers into a Dangerou...   \n",
       "73606  UK: Identity cards 'could be used to spy on pe...   \n",
       "73607  Marriage, they said, was reduced to the status...   \n",
       "\n",
       "                              News_Preprocessed_advanced  \n",
       "0      A yearold woman Mexico City finally received b...  \n",
       "1           IMF chief back Athens permanent Olympic host  \n",
       "2           The president France say Brexit Donald Trump  \n",
       "3      British Man Who Must Give Police Hours Notice ...  \n",
       "4      Nobel laureate urge Greenpeace stop opposing GMOs  \n",
       "...                                                  ...  \n",
       "73603  Man go berzerk Akihabara stab everyone nearby ...  \n",
       "73604  Threat world AIDS pandemic among heterosexual ...  \n",
       "73605  Angst Ankara Turkey Steers Dangerous Identity ...  \n",
       "73606  UK Identity card could used spy people new chi...  \n",
       "73607  Marriage said reduced status commercial transa...  \n",
       "\n",
       "[73608 rows x 4 columns]"
      ]
     },
     "execution_count": 3,
     "metadata": {},
     "output_type": "execute_result"
    }
   ],
   "source": [
    "df_news"
   ]
  },
  {
   "cell_type": "code",
   "execution_count": 4,
   "id": "28fecb98",
   "metadata": {},
   "outputs": [],
   "source": [
    "# Initialize the VADER sentiment analyzer\n",
    "analyzer = SentimentIntensityAnalyzer()\n",
    "\n",
    "# Define a function to calculate sentiment scores\n",
    "def get_sentiment(text):\n",
    "    # Calculate the sentiment scores\n",
    "    sentiment = analyzer.polarity_scores(str(text))\n",
    "    \n",
    "    # Return the compound score\n",
    "    return sentiment['compound']\n",
    "\n",
    "# Apply the function to the headlines\n",
    "df_news['sentiment_vader'] = df_news['News_Preprocessed'].apply(get_sentiment)"
   ]
  },
  {
   "cell_type": "code",
   "execution_count": 5,
   "id": "7923fe21",
   "metadata": {},
   "outputs": [],
   "source": [
    "df_news.to_csv(os.path.join('..', 'data', 'RedditNews_Vader.csv'), index= False)"
   ]
  }
 ],
 "metadata": {
  "kernelspec": {
   "display_name": "Python 3 (ipykernel)",
   "language": "python",
   "name": "python3"
  },
  "language_info": {
   "codemirror_mode": {
    "name": "ipython",
    "version": 3
   },
   "file_extension": ".py",
   "mimetype": "text/x-python",
   "name": "python",
   "nbconvert_exporter": "python",
   "pygments_lexer": "ipython3",
   "version": "3.9.16"
  }
 },
 "nbformat": 4,
 "nbformat_minor": 5
}
