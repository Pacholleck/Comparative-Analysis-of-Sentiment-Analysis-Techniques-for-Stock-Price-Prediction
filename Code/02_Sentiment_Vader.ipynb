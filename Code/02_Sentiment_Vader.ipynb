{
 "cells": [
  {
   "cell_type": "code",
   "execution_count": 1,
   "id": "01e48319",
   "metadata": {},
   "outputs": [
    {
     "name": "stderr",
     "output_type": "stream",
     "text": [
      "[nltk_data] Downloading package vader_lexicon to\n",
      "[nltk_data]     C:\\Users\\duzzi\\AppData\\Roaming\\nltk_data...\n",
      "[nltk_data]   Package vader_lexicon is already up-to-date!\n"
     ]
    },
    {
     "data": {
      "text/plain": [
       "True"
      ]
     },
     "execution_count": 1,
     "metadata": {},
     "output_type": "execute_result"
    }
   ],
   "source": [
    "# Import libraries\n",
    "import os\n",
    "\n",
    "import pandas as pd\n",
    "import numpy as np\n",
    "\n",
    "from nltk.sentiment.vader import SentimentIntensityAnalyzer\n",
    "import nltk\n",
    "nltk.download('vader_lexicon')"
   ]
  },
  {
   "cell_type": "code",
   "execution_count": 2,
   "id": "af321015",
   "metadata": {},
   "outputs": [],
   "source": [
    "df_news = pd.read_csv(os.path.join('..', 'data', 'RedditNews_preprocessed.csv'))"
   ]
  },
  {
   "cell_type": "code",
   "execution_count": 6,
   "id": "1bd60162",
   "metadata": {},
   "outputs": [
    {
     "data": {
      "text/html": [
       "<div>\n",
       "<style scoped>\n",
       "    .dataframe tbody tr th:only-of-type {\n",
       "        vertical-align: middle;\n",
       "    }\n",
       "\n",
       "    .dataframe tbody tr th {\n",
       "        vertical-align: top;\n",
       "    }\n",
       "\n",
       "    .dataframe thead th {\n",
       "        text-align: right;\n",
       "    }\n",
       "</style>\n",
       "<table border=\"1\" class=\"dataframe\">\n",
       "  <thead>\n",
       "    <tr style=\"text-align: right;\">\n",
       "      <th></th>\n",
       "      <th>Date</th>\n",
       "      <th>News</th>\n",
       "      <th>News_Preprocessed</th>\n",
       "      <th>sentiment_vader</th>\n",
       "    </tr>\n",
       "  </thead>\n",
       "  <tbody>\n",
       "    <tr>\n",
       "      <th>0</th>\n",
       "      <td>2016-07-01</td>\n",
       "      <td>A 117-year-old woman in Mexico City finally re...</td>\n",
       "      <td>117yearold woman mexico city finally received ...</td>\n",
       "      <td>-0.5574</td>\n",
       "    </tr>\n",
       "    <tr>\n",
       "      <th>1</th>\n",
       "      <td>2016-07-01</td>\n",
       "      <td>IMF chief backs Athens as permanent Olympic host</td>\n",
       "      <td>imf chief back athens permanent olympic host</td>\n",
       "      <td>0.0000</td>\n",
       "    </tr>\n",
       "    <tr>\n",
       "      <th>2</th>\n",
       "      <td>2016-07-01</td>\n",
       "      <td>The president of France says if Brexit won, so...</td>\n",
       "      <td>president france say brexit donald trump</td>\n",
       "      <td>0.0000</td>\n",
       "    </tr>\n",
       "    <tr>\n",
       "      <th>3</th>\n",
       "      <td>2016-07-01</td>\n",
       "      <td>British Man Who Must Give Police 24 Hours' Not...</td>\n",
       "      <td>british man must give police 24 hour notice se...</td>\n",
       "      <td>-0.8210</td>\n",
       "    </tr>\n",
       "    <tr>\n",
       "      <th>4</th>\n",
       "      <td>2016-07-01</td>\n",
       "      <td>100+ Nobel laureates urge Greenpeace to stop o...</td>\n",
       "      <td>100 nobel laureate urge greenpeace stop opposi...</td>\n",
       "      <td>-0.2960</td>\n",
       "    </tr>\n",
       "    <tr>\n",
       "      <th>...</th>\n",
       "      <td>...</td>\n",
       "      <td>...</td>\n",
       "      <td>...</td>\n",
       "      <td>...</td>\n",
       "    </tr>\n",
       "    <tr>\n",
       "      <th>73603</th>\n",
       "      <td>2008-06-08</td>\n",
       "      <td>b'Man goes berzerk in Akihabara and stabs ever...</td>\n",
       "      <td>man go berzerk akihabara stab everyone nearby ...</td>\n",
       "      <td>-0.8957</td>\n",
       "    </tr>\n",
       "    <tr>\n",
       "      <th>73604</th>\n",
       "      <td>2008-06-08</td>\n",
       "      <td>b'Threat of world AIDS pandemic among heterose...</td>\n",
       "      <td>threat world aid pandemic among heterosexual r...</td>\n",
       "      <td>-0.2960</td>\n",
       "    </tr>\n",
       "    <tr>\n",
       "      <th>73605</th>\n",
       "      <td>2008-06-08</td>\n",
       "      <td>b'Angst in Ankara: Turkey Steers into a Danger...</td>\n",
       "      <td>angst ankara turkey steer dangerous identity c...</td>\n",
       "      <td>-0.8020</td>\n",
       "    </tr>\n",
       "    <tr>\n",
       "      <th>73606</th>\n",
       "      <td>2008-06-08</td>\n",
       "      <td>b\"UK: Identity cards 'could be used to spy on ...</td>\n",
       "      <td>buk identity card could used spy people new ch...</td>\n",
       "      <td>-0.5267</td>\n",
       "    </tr>\n",
       "    <tr>\n",
       "      <th>73607</th>\n",
       "      <td>2008-06-08</td>\n",
       "      <td>b'Marriage, they said, was reduced to the stat...</td>\n",
       "      <td>marriage said reduced status commercial transa...</td>\n",
       "      <td>-0.5859</td>\n",
       "    </tr>\n",
       "  </tbody>\n",
       "</table>\n",
       "<p>73608 rows × 4 columns</p>\n",
       "</div>"
      ],
      "text/plain": [
       "             Date                                               News  \\\n",
       "0      2016-07-01  A 117-year-old woman in Mexico City finally re...   \n",
       "1      2016-07-01   IMF chief backs Athens as permanent Olympic host   \n",
       "2      2016-07-01  The president of France says if Brexit won, so...   \n",
       "3      2016-07-01  British Man Who Must Give Police 24 Hours' Not...   \n",
       "4      2016-07-01  100+ Nobel laureates urge Greenpeace to stop o...   \n",
       "...           ...                                                ...   \n",
       "73603  2008-06-08  b'Man goes berzerk in Akihabara and stabs ever...   \n",
       "73604  2008-06-08  b'Threat of world AIDS pandemic among heterose...   \n",
       "73605  2008-06-08  b'Angst in Ankara: Turkey Steers into a Danger...   \n",
       "73606  2008-06-08  b\"UK: Identity cards 'could be used to spy on ...   \n",
       "73607  2008-06-08  b'Marriage, they said, was reduced to the stat...   \n",
       "\n",
       "                                       News_Preprocessed  sentiment_vader  \n",
       "0      117yearold woman mexico city finally received ...          -0.5574  \n",
       "1           imf chief back athens permanent olympic host           0.0000  \n",
       "2               president france say brexit donald trump           0.0000  \n",
       "3      british man must give police 24 hour notice se...          -0.8210  \n",
       "4      100 nobel laureate urge greenpeace stop opposi...          -0.2960  \n",
       "...                                                  ...              ...  \n",
       "73603  man go berzerk akihabara stab everyone nearby ...          -0.8957  \n",
       "73604  threat world aid pandemic among heterosexual r...          -0.2960  \n",
       "73605  angst ankara turkey steer dangerous identity c...          -0.8020  \n",
       "73606  buk identity card could used spy people new ch...          -0.5267  \n",
       "73607  marriage said reduced status commercial transa...          -0.5859  \n",
       "\n",
       "[73608 rows x 4 columns]"
      ]
     },
     "execution_count": 6,
     "metadata": {},
     "output_type": "execute_result"
    }
   ],
   "source": [
    "df_news"
   ]
  },
  {
   "cell_type": "code",
   "execution_count": 4,
   "id": "28fecb98",
   "metadata": {},
   "outputs": [],
   "source": [
    "# Initialize the VADER sentiment analyzer\n",
    "analyzer = SentimentIntensityAnalyzer()\n",
    "\n",
    "# Define a function to calculate sentiment scores\n",
    "def get_sentiment(text):\n",
    "    # Calculate the sentiment scores\n",
    "    sentiment = analyzer.polarity_scores(str(text))\n",
    "    \n",
    "    # Return the compound score\n",
    "    return sentiment['compound']\n",
    "\n",
    "# Apply the function to the headlines\n",
    "df_news['sentiment_vader'] = df_news['News_Preprocessed'].apply(get_sentiment)"
   ]
  },
  {
   "cell_type": "code",
   "execution_count": 5,
   "id": "7923fe21",
   "metadata": {},
   "outputs": [],
   "source": [
    "df_news.to_csv(os.path.join('..', 'data', 'RedditNews_Vader.csv'), index= False)"
   ]
  }
 ],
 "metadata": {
  "kernelspec": {
   "display_name": "Python 3 (ipykernel)",
   "language": "python",
   "name": "python3"
  },
  "language_info": {
   "codemirror_mode": {
    "name": "ipython",
    "version": 3
   },
   "file_extension": ".py",
   "mimetype": "text/x-python",
   "name": "python",
   "nbconvert_exporter": "python",
   "pygments_lexer": "ipython3",
   "version": "3.8.8"
  }
 },
 "nbformat": 4,
 "nbformat_minor": 5
}
